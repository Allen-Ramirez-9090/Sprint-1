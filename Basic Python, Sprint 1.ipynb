{
 "cells": [
  {
   "cell_type": "markdown",
   "id": "f85a80d2",
   "metadata": {},
   "source": [
    "## Basic Python - Project <a id='intro'></a>"
   ]
  },
  {
   "cell_type": "markdown",
   "id": "a1262df4",
   "metadata": {},
   "source": [
    "## Introduction <a id='intro'></a>\n",
    "In this project, you will work with data from the entertainment industry. You will study a dataset with records on movies and shows. The research will focus on the \"Golden Age\" of television, which began in 1999 with the release of *The Sopranos* and is still ongoing.\n",
    "\n",
    "The aim of this project is to investigate how the number of votes a title receives impacts its ratings. The assumption is that highly-rated shows (we will focus on TV shows, ignoring movies) released during the \"Golden Age\" of television also have the most votes.\n",
    "\n",
    "### Stages \n",
    "Data on movies and shows is stored in the `/datasets/movies_and_shows.csv` file. There is no information about the quality of the data, so you will need to explore it before doing the analysis.\n",
    "\n",
    "First, you'll evaluate the quality of the data and see whether its issues are significant. Then, during data preprocessing, you will try to account for the most critical problems.\n",
    " \n",
    "Your project will consist of three stages:\n",
    " 1. Data overview\n",
    " 2. Data preprocessing\n",
    " 3. Data analysis"
   ]
  },
  {
   "cell_type": "markdown",
   "id": "ac0593ac",
   "metadata": {},
   "source": [
    "## Stage 1. Data overview <a id='data_review'></a>\n",
    "\n",
    "Open and explore the data."
   ]
  },
  {
   "cell_type": "markdown",
   "id": "e86ed00e",
   "metadata": {},
   "source": [
    "You'll need `pandas`, so import it."
   ]
  },
  {
   "cell_type": "code",
   "execution_count": 1,
   "id": "1727d3f8",
   "metadata": {
    "trusted": false
   },
   "outputs": [],
   "source": [
    "import pandas as pd # importing pandas\n"
   ]
  },
  {
   "cell_type": "markdown",
   "id": "9821beeb",
   "metadata": {},
   "source": [
    "Read the `movies_and_shows.csv` file from the `datasets` folder and save it in the `df` variable:"
   ]
  },
  {
   "cell_type": "code",
   "execution_count": 2,
   "id": "fc5a1402",
   "metadata": {
    "trusted": false
   },
   "outputs": [],
   "source": [
    "df = pd.read_csv('/datasets/movies_and_shows.csv')# reading the files and storing them to df\n"
   ]
  },
  {
   "cell_type": "markdown",
   "id": "1cd0a96d",
   "metadata": {},
   "source": [
    "Print the first 10 table rows:"
   ]
  },
  {
   "cell_type": "code",
   "execution_count": 3,
   "id": "acd92001",
   "metadata": {
    "trusted": false
   },
   "outputs": [
    {
     "data": {
      "text/html": [
       "<div>\n",
       "<style scoped>\n",
       "    .dataframe tbody tr th:only-of-type {\n",
       "        vertical-align: middle;\n",
       "    }\n",
       "\n",
       "    .dataframe tbody tr th {\n",
       "        vertical-align: top;\n",
       "    }\n",
       "\n",
       "    .dataframe thead th {\n",
       "        text-align: right;\n",
       "    }\n",
       "</style>\n",
       "<table border=\"1\" class=\"dataframe\">\n",
       "  <thead>\n",
       "    <tr style=\"text-align: right;\">\n",
       "      <th></th>\n",
       "      <th>name</th>\n",
       "      <th>Character</th>\n",
       "      <th>r0le</th>\n",
       "      <th>TITLE</th>\n",
       "      <th>Type</th>\n",
       "      <th>release Year</th>\n",
       "      <th>genres</th>\n",
       "      <th>imdb sc0re</th>\n",
       "      <th>imdb v0tes</th>\n",
       "    </tr>\n",
       "  </thead>\n",
       "  <tbody>\n",
       "    <tr>\n",
       "      <th>0</th>\n",
       "      <td>Robert De Niro</td>\n",
       "      <td>Travis Bickle</td>\n",
       "      <td>ACTOR</td>\n",
       "      <td>Taxi Driver</td>\n",
       "      <td>MOVIE</td>\n",
       "      <td>1976</td>\n",
       "      <td>['drama', 'crime']</td>\n",
       "      <td>8.2</td>\n",
       "      <td>808582.0</td>\n",
       "    </tr>\n",
       "    <tr>\n",
       "      <th>1</th>\n",
       "      <td>Jodie Foster</td>\n",
       "      <td>Iris Steensma</td>\n",
       "      <td>ACTOR</td>\n",
       "      <td>Taxi Driver</td>\n",
       "      <td>MOVIE</td>\n",
       "      <td>1976</td>\n",
       "      <td>['drama', 'crime']</td>\n",
       "      <td>8.2</td>\n",
       "      <td>808582.0</td>\n",
       "    </tr>\n",
       "    <tr>\n",
       "      <th>2</th>\n",
       "      <td>Albert Brooks</td>\n",
       "      <td>Tom</td>\n",
       "      <td>ACTOR</td>\n",
       "      <td>Taxi Driver</td>\n",
       "      <td>MOVIE</td>\n",
       "      <td>1976</td>\n",
       "      <td>['drama', 'crime']</td>\n",
       "      <td>8.2</td>\n",
       "      <td>808582.0</td>\n",
       "    </tr>\n",
       "    <tr>\n",
       "      <th>3</th>\n",
       "      <td>Harvey Keitel</td>\n",
       "      <td>Matthew 'Sport' Higgins</td>\n",
       "      <td>ACTOR</td>\n",
       "      <td>Taxi Driver</td>\n",
       "      <td>MOVIE</td>\n",
       "      <td>1976</td>\n",
       "      <td>['drama', 'crime']</td>\n",
       "      <td>8.2</td>\n",
       "      <td>808582.0</td>\n",
       "    </tr>\n",
       "    <tr>\n",
       "      <th>4</th>\n",
       "      <td>Cybill Shepherd</td>\n",
       "      <td>Betsy</td>\n",
       "      <td>ACTOR</td>\n",
       "      <td>Taxi Driver</td>\n",
       "      <td>MOVIE</td>\n",
       "      <td>1976</td>\n",
       "      <td>['drama', 'crime']</td>\n",
       "      <td>8.2</td>\n",
       "      <td>808582.0</td>\n",
       "    </tr>\n",
       "    <tr>\n",
       "      <th>5</th>\n",
       "      <td>Peter Boyle</td>\n",
       "      <td>Wizard</td>\n",
       "      <td>ACTOR</td>\n",
       "      <td>Taxi Driver</td>\n",
       "      <td>MOVIE</td>\n",
       "      <td>1976</td>\n",
       "      <td>['drama', 'crime']</td>\n",
       "      <td>8.2</td>\n",
       "      <td>808582.0</td>\n",
       "    </tr>\n",
       "    <tr>\n",
       "      <th>6</th>\n",
       "      <td>Leonard Harris</td>\n",
       "      <td>Senator Charles Palantine</td>\n",
       "      <td>ACTOR</td>\n",
       "      <td>Taxi Driver</td>\n",
       "      <td>MOVIE</td>\n",
       "      <td>1976</td>\n",
       "      <td>['drama', 'crime']</td>\n",
       "      <td>8.2</td>\n",
       "      <td>808582.0</td>\n",
       "    </tr>\n",
       "    <tr>\n",
       "      <th>7</th>\n",
       "      <td>Diahnne Abbott</td>\n",
       "      <td>Concession Girl</td>\n",
       "      <td>ACTOR</td>\n",
       "      <td>Taxi Driver</td>\n",
       "      <td>MOVIE</td>\n",
       "      <td>1976</td>\n",
       "      <td>['drama', 'crime']</td>\n",
       "      <td>8.2</td>\n",
       "      <td>808582.0</td>\n",
       "    </tr>\n",
       "    <tr>\n",
       "      <th>8</th>\n",
       "      <td>Gino Ardito</td>\n",
       "      <td>Policeman at Rally</td>\n",
       "      <td>ACTOR</td>\n",
       "      <td>Taxi Driver</td>\n",
       "      <td>MOVIE</td>\n",
       "      <td>1976</td>\n",
       "      <td>['drama', 'crime']</td>\n",
       "      <td>8.2</td>\n",
       "      <td>808582.0</td>\n",
       "    </tr>\n",
       "    <tr>\n",
       "      <th>9</th>\n",
       "      <td>Martin Scorsese</td>\n",
       "      <td>Passenger Watching Silhouette</td>\n",
       "      <td>ACTOR</td>\n",
       "      <td>Taxi Driver</td>\n",
       "      <td>MOVIE</td>\n",
       "      <td>1976</td>\n",
       "      <td>['drama', 'crime']</td>\n",
       "      <td>8.2</td>\n",
       "      <td>808582.0</td>\n",
       "    </tr>\n",
       "  </tbody>\n",
       "</table>\n",
       "</div>"
      ],
      "text/plain": [
       "              name                      Character   r0le        TITLE   Type  \\\n",
       "0   Robert De Niro                  Travis Bickle  ACTOR  Taxi Driver  MOVIE   \n",
       "1     Jodie Foster                  Iris Steensma  ACTOR  Taxi Driver  MOVIE   \n",
       "2    Albert Brooks                            Tom  ACTOR  Taxi Driver  MOVIE   \n",
       "3    Harvey Keitel        Matthew 'Sport' Higgins  ACTOR  Taxi Driver  MOVIE   \n",
       "4  Cybill Shepherd                          Betsy  ACTOR  Taxi Driver  MOVIE   \n",
       "5      Peter Boyle                         Wizard  ACTOR  Taxi Driver  MOVIE   \n",
       "6   Leonard Harris      Senator Charles Palantine  ACTOR  Taxi Driver  MOVIE   \n",
       "7   Diahnne Abbott                Concession Girl  ACTOR  Taxi Driver  MOVIE   \n",
       "8      Gino Ardito             Policeman at Rally  ACTOR  Taxi Driver  MOVIE   \n",
       "9  Martin Scorsese  Passenger Watching Silhouette  ACTOR  Taxi Driver  MOVIE   \n",
       "\n",
       "   release Year              genres  imdb sc0re  imdb v0tes  \n",
       "0          1976  ['drama', 'crime']         8.2    808582.0  \n",
       "1          1976  ['drama', 'crime']         8.2    808582.0  \n",
       "2          1976  ['drama', 'crime']         8.2    808582.0  \n",
       "3          1976  ['drama', 'crime']         8.2    808582.0  \n",
       "4          1976  ['drama', 'crime']         8.2    808582.0  \n",
       "5          1976  ['drama', 'crime']         8.2    808582.0  \n",
       "6          1976  ['drama', 'crime']         8.2    808582.0  \n",
       "7          1976  ['drama', 'crime']         8.2    808582.0  \n",
       "8          1976  ['drama', 'crime']         8.2    808582.0  \n",
       "9          1976  ['drama', 'crime']         8.2    808582.0  "
      ]
     },
     "execution_count": 3,
     "metadata": {},
     "output_type": "execute_result"
    }
   ],
   "source": [
    "# obtaining the first 10 rows from the df table\n",
    "# hint: you can use head() and tail() in Jupyter Notebook without wrapping them into print()\n",
    "df.head(10)"
   ]
  },
  {
   "cell_type": "markdown",
   "id": "e579aa91",
   "metadata": {},
   "source": [
    "Obtain the general information about the table with one command:"
   ]
  },
  {
   "cell_type": "code",
   "execution_count": 4,
   "id": "7bf66d2a",
   "metadata": {
    "trusted": false
   },
   "outputs": [
    {
     "name": "stdout",
     "output_type": "stream",
     "text": [
      "<class 'pandas.core.frame.DataFrame'>\n",
      "RangeIndex: 85579 entries, 0 to 85578\n",
      "Data columns (total 9 columns):\n",
      " #   Column        Non-Null Count  Dtype  \n",
      "---  ------        --------------  -----  \n",
      " 0      name       85579 non-null  object \n",
      " 1   Character     85579 non-null  object \n",
      " 2   r0le          85579 non-null  object \n",
      " 3   TITLE         85578 non-null  object \n",
      " 4     Type        85579 non-null  object \n",
      " 5   release Year  85579 non-null  int64  \n",
      " 6   genres        85579 non-null  object \n",
      " 7   imdb sc0re    80970 non-null  float64\n",
      " 8   imdb v0tes    80853 non-null  float64\n",
      "dtypes: float64(2), int64(1), object(6)\n",
      "memory usage: 5.9+ MB\n"
     ]
    }
   ],
   "source": [
    "# obtaining general information about the data in df\n",
    "df.info()"
   ]
  },
  {
   "cell_type": "markdown",
   "id": "e91f62a7",
   "metadata": {},
   "source": [
    "The table contains nine columns. The majority store the same data type: object. The only exceptions are `'release Year'` (int64 type), `'imdb sc0re'` (float64 type) and `'imdb v0tes'` (float64 type). Scores and votes will be used in our analysis, so it's important to verify that they are present in the dataframe in the appropriate numeric format. Three columns (`'TITLE'`, `'imdb sc0re'` and `'imdb v0tes'`) have missing values.\n",
    "\n",
    "According to the documentation:\n",
    "- `'name'` — actor/director's name and last name\n",
    "- `'Character'` — character played (for actors)\n",
    "- `'r0le '` — the person's contribution to the title (it can be in the capacity of either actor or director)\n",
    "- `'TITLE '` — title of the movie (show)\n",
    "- `'  Type'` — show or movie\n",
    "- `'release Year'` — year when movie (show) was released\n",
    "- `'genres'` — list of genres under which the movie (show) falls\n",
    "- `'imdb sc0re'` — score on IMDb\n",
    "- `'imdb v0tes'` — votes on IMDb\n",
    "\n",
    "We can see three issues with the column names:\n",
    "1. Some names are uppercase, while others are lowercase.\n",
    "2. There are names containing whitespace.\n",
    "3. A few column names have digit '0' instead of letter 'o'. \n"
   ]
  },
  {
   "cell_type": "markdown",
   "id": "4355de7b",
   "metadata": {},
   "source": [
    "### Conclusions <a id='data_review_conclusions'></a> \n",
    "\n",
    "Each row in the table stores data about a movie or show. The columns can be divided into two categories: the first is about the roles held by different people who worked on the movie or show (role, name of the actor or director, and character if the row is about an actor); the second category is information about the movie or show itself (title, release year, genre, imdb figures).\n",
    "\n",
    "It's clear that there is sufficient data to do the analysis and evaluate our assumption. However, to move forward, we need to preprocess the data."
   ]
  },
  {
   "cell_type": "markdown",
   "id": "c5dc9111",
   "metadata": {},
   "source": [
    "## Stage 2. Data preprocessing <a id='data_preprocessing'></a>\n",
    "Correct the formatting in the column headers and deal with the missing values. Then, check whether there are duplicates in the data."
   ]
  },
  {
   "cell_type": "code",
   "execution_count": 5,
   "id": "9c850d13",
   "metadata": {
    "trusted": false
   },
   "outputs": [
    {
     "data": {
      "text/plain": [
       "Index(['   name', 'Character', 'r0le', 'TITLE', '  Type', 'release Year',\n",
       "       'genres', 'imdb sc0re', 'imdb v0tes'],\n",
       "      dtype='object')"
      ]
     },
     "execution_count": 5,
     "metadata": {},
     "output_type": "execute_result"
    }
   ],
   "source": [
    "# the list of column names in the df table\n",
    "df.columns"
   ]
  },
  {
   "cell_type": "markdown",
   "id": "5f966df9",
   "metadata": {},
   "source": [
    "Change the column names according to the rules of good style:\n",
    "* If the name has several words, use snake_case\n",
    "* All characters must be lowercase\n",
    "* Remove whitespace\n",
    "* Replace zero with letter 'o'"
   ]
  },
  {
   "cell_type": "code",
   "execution_count": 6,
   "id": "23a1dc11",
   "metadata": {
    "trusted": false
   },
   "outputs": [],
   "source": [
    "# renaming columns\n",
    "df = df.rename(columns={'   name': 'name', 'Character': 'character', 'r0le': 'role', 'TITLE':'title', '  Type': 'type', 'release Year': 'release_year', 'imdb sc0re': 'imdb_score', 'imdb v0tes': 'imdb_votes'})"
   ]
  },
  {
   "cell_type": "markdown",
   "id": "881fcb02",
   "metadata": {},
   "source": []
  },
  {
   "cell_type": "markdown",
   "id": "464fbd04",
   "metadata": {},
   "source": [
    "Check the result. Print the names of the columns once more:"
   ]
  },
  {
   "cell_type": "code",
   "execution_count": 7,
   "id": "0eb6527f",
   "metadata": {
    "trusted": false
   },
   "outputs": [
    {
     "data": {
      "text/plain": [
       "Index(['name', 'character', 'role', 'title', 'type', 'release_year', 'genres',\n",
       "       'imdb_score', 'imdb_votes'],\n",
       "      dtype='object')"
      ]
     },
     "execution_count": 7,
     "metadata": {},
     "output_type": "execute_result"
    }
   ],
   "source": [
    "# checking result: the list of column names\n",
    "df.columns"
   ]
  },
  {
   "cell_type": "markdown",
   "id": "14d9c319",
   "metadata": {},
   "source": [
    "### Missing values <a id='missing_values'></a>\n",
    "First, find the number of missing values in the table. To do so, combine two `pandas` methods:"
   ]
  },
  {
   "cell_type": "code",
   "execution_count": 8,
   "id": "21c427f2",
   "metadata": {
    "trusted": false
   },
   "outputs": [
    {
     "data": {
      "text/plain": [
       "name               0\n",
       "character          0\n",
       "role               0\n",
       "title              1\n",
       "type               0\n",
       "release_year       0\n",
       "genres             0\n",
       "imdb_score      4609\n",
       "imdb_votes      4726\n",
       "dtype: int64"
      ]
     },
     "execution_count": 8,
     "metadata": {},
     "output_type": "execute_result"
    }
   ],
   "source": [
    "# calculating missing values\n",
    "df.isna().sum()"
   ]
  },
  {
   "cell_type": "markdown",
   "id": "c8272df3",
   "metadata": {},
   "source": [
    "We identified missing values in several columns. While the missing value in `'title'` isn't critical, missing values in `'imdb_score'` and `'imdb_votes'` affect around 6% of the data, which could impact our analysis. To ensure data integrity, we'll drop all rows with missing values."
   ]
  },
  {
   "cell_type": "code",
   "execution_count": 9,
   "id": "599d5550",
   "metadata": {
    "trusted": false
   },
   "outputs": [],
   "source": [
    "# dropping rows where columns with scores, and votes have missing values\n",
    "df = df.dropna()"
   ]
  },
  {
   "cell_type": "markdown",
   "id": "2156887f",
   "metadata": {},
   "source": [
    "Make sure the table doesn't contain any more missing values. Count the missing values again."
   ]
  },
  {
   "cell_type": "code",
   "execution_count": 10,
   "id": "55c0b0ce",
   "metadata": {
    "trusted": false
   },
   "outputs": [
    {
     "data": {
      "text/plain": [
       "name            0\n",
       "character       0\n",
       "role            0\n",
       "title           0\n",
       "type            0\n",
       "release_year    0\n",
       "genres          0\n",
       "imdb_score      0\n",
       "imdb_votes      0\n",
       "dtype: int64"
      ]
     },
     "execution_count": 10,
     "metadata": {},
     "output_type": "execute_result"
    }
   ],
   "source": [
    "# counting missing values\n",
    "df.isna().sum()"
   ]
  },
  {
   "cell_type": "markdown",
   "id": "a7dc7aa0",
   "metadata": {},
   "source": [
    "### Duplicates <a id='duplicates'></a>\n",
    "Find the number of duplicate rows in the table using one command:"
   ]
  },
  {
   "cell_type": "code",
   "execution_count": 11,
   "id": "9227df01",
   "metadata": {
    "trusted": false
   },
   "outputs": [
    {
     "data": {
      "text/plain": [
       "6994"
      ]
     },
     "execution_count": 11,
     "metadata": {},
     "output_type": "execute_result"
    }
   ],
   "source": [
    "# counting duplicate rows\n",
    "df.duplicated().sum()"
   ]
  },
  {
   "cell_type": "markdown",
   "id": "5f6eb0fc",
   "metadata": {},
   "source": [
    "Review the duplicate rows to determine if removing them would distort our dataset."
   ]
  },
  {
   "cell_type": "code",
   "execution_count": 12,
   "id": "bcf32fcb",
   "metadata": {
    "trusted": false
   },
   "outputs": [
    {
     "data": {
      "text/html": [
       "<div>\n",
       "<style scoped>\n",
       "    .dataframe tbody tr th:only-of-type {\n",
       "        vertical-align: middle;\n",
       "    }\n",
       "\n",
       "    .dataframe tbody tr th {\n",
       "        vertical-align: top;\n",
       "    }\n",
       "\n",
       "    .dataframe thead th {\n",
       "        text-align: right;\n",
       "    }\n",
       "</style>\n",
       "<table border=\"1\" class=\"dataframe\">\n",
       "  <thead>\n",
       "    <tr style=\"text-align: right;\">\n",
       "      <th></th>\n",
       "      <th>name</th>\n",
       "      <th>character</th>\n",
       "      <th>role</th>\n",
       "      <th>title</th>\n",
       "      <th>type</th>\n",
       "      <th>release_year</th>\n",
       "      <th>genres</th>\n",
       "      <th>imdb_score</th>\n",
       "      <th>imdb_votes</th>\n",
       "    </tr>\n",
       "  </thead>\n",
       "  <tbody>\n",
       "    <tr>\n",
       "      <th>7561</th>\n",
       "      <td>Philip Greene</td>\n",
       "      <td>Baseball Fan (uncredited)</td>\n",
       "      <td>ACTOR</td>\n",
       "      <td>How Do You Know</td>\n",
       "      <td>MOVIE</td>\n",
       "      <td>2010</td>\n",
       "      <td>['comedy', 'drama', 'romance']</td>\n",
       "      <td>5.4</td>\n",
       "      <td>50383.0</td>\n",
       "    </tr>\n",
       "    <tr>\n",
       "      <th>14512</th>\n",
       "      <td>Dan Levy</td>\n",
       "      <td>Reporter</td>\n",
       "      <td>ACTOR</td>\n",
       "      <td>A Very Harold &amp; Kumar Christmas</td>\n",
       "      <td>MOVIE</td>\n",
       "      <td>2011</td>\n",
       "      <td>['comedy', 'fantasy', 'romance']</td>\n",
       "      <td>6.2</td>\n",
       "      <td>69562.0</td>\n",
       "    </tr>\n",
       "    <tr>\n",
       "      <th>18952</th>\n",
       "      <td>Nicolas Le Nev??</td>\n",
       "      <td>unknown</td>\n",
       "      <td>DIRECTOR</td>\n",
       "      <td>Sammy &amp; Co</td>\n",
       "      <td>SHOW</td>\n",
       "      <td>2014</td>\n",
       "      <td>['animation', 'european']</td>\n",
       "      <td>5.7</td>\n",
       "      <td>31.0</td>\n",
       "    </tr>\n",
       "    <tr>\n",
       "      <th>22456</th>\n",
       "      <td>John Iii Franklin</td>\n",
       "      <td>Himself</td>\n",
       "      <td>ACTOR</td>\n",
       "      <td>Last Chance U</td>\n",
       "      <td>SHOW</td>\n",
       "      <td>2016</td>\n",
       "      <td>['documentation', 'sport']</td>\n",
       "      <td>8.4</td>\n",
       "      <td>6897.0</td>\n",
       "    </tr>\n",
       "    <tr>\n",
       "      <th>29557</th>\n",
       "      <td>Claudio Roca</td>\n",
       "      <td>Nicol?­s</td>\n",
       "      <td>ACTOR</td>\n",
       "      <td>Narcos: Mexico</td>\n",
       "      <td>SHOW</td>\n",
       "      <td>2018</td>\n",
       "      <td>['drama', 'crime']</td>\n",
       "      <td>8.4</td>\n",
       "      <td>82042.0</td>\n",
       "    </tr>\n",
       "    <tr>\n",
       "      <th>...</th>\n",
       "      <td>...</td>\n",
       "      <td>...</td>\n",
       "      <td>...</td>\n",
       "      <td>...</td>\n",
       "      <td>...</td>\n",
       "      <td>...</td>\n",
       "      <td>...</td>\n",
       "      <td>...</td>\n",
       "      <td>...</td>\n",
       "    </tr>\n",
       "    <tr>\n",
       "      <th>85569</th>\n",
       "      <td>Jessica Cediel</td>\n",
       "      <td>Liliana Navarro</td>\n",
       "      <td>ACTOR</td>\n",
       "      <td>Lokillo</td>\n",
       "      <td>MOVIE</td>\n",
       "      <td>2021</td>\n",
       "      <td>['comedy']</td>\n",
       "      <td>3.8</td>\n",
       "      <td>68.0</td>\n",
       "    </tr>\n",
       "    <tr>\n",
       "      <th>85570</th>\n",
       "      <td>Javier Gardeaz?­bal</td>\n",
       "      <td>Agust??n \"Peluca\" Ort??z</td>\n",
       "      <td>ACTOR</td>\n",
       "      <td>Lokillo</td>\n",
       "      <td>MOVIE</td>\n",
       "      <td>2021</td>\n",
       "      <td>['comedy']</td>\n",
       "      <td>3.8</td>\n",
       "      <td>68.0</td>\n",
       "    </tr>\n",
       "    <tr>\n",
       "      <th>85571</th>\n",
       "      <td>Carla Giraldo</td>\n",
       "      <td>Valery Reinoso</td>\n",
       "      <td>ACTOR</td>\n",
       "      <td>Lokillo</td>\n",
       "      <td>MOVIE</td>\n",
       "      <td>2021</td>\n",
       "      <td>['comedy']</td>\n",
       "      <td>3.8</td>\n",
       "      <td>68.0</td>\n",
       "    </tr>\n",
       "    <tr>\n",
       "      <th>85572</th>\n",
       "      <td>Ana Mar??a S?­nchez</td>\n",
       "      <td>Lourdes</td>\n",
       "      <td>ACTOR</td>\n",
       "      <td>Lokillo</td>\n",
       "      <td>MOVIE</td>\n",
       "      <td>2021</td>\n",
       "      <td>['comedy']</td>\n",
       "      <td>3.8</td>\n",
       "      <td>68.0</td>\n",
       "    </tr>\n",
       "    <tr>\n",
       "      <th>85577</th>\n",
       "      <td>Isabel Gaona</td>\n",
       "      <td>Cacica</td>\n",
       "      <td>ACTOR</td>\n",
       "      <td>Lokillo</td>\n",
       "      <td>MOVIE</td>\n",
       "      <td>2021</td>\n",
       "      <td>['comedy']</td>\n",
       "      <td>3.8</td>\n",
       "      <td>68.0</td>\n",
       "    </tr>\n",
       "  </tbody>\n",
       "</table>\n",
       "<p>6994 rows × 9 columns</p>\n",
       "</div>"
      ],
      "text/plain": [
       "                      name                  character      role  \\\n",
       "7561         Philip Greene  Baseball Fan (uncredited)     ACTOR   \n",
       "14512             Dan Levy                   Reporter     ACTOR   \n",
       "18952     Nicolas Le Nev??                    unknown  DIRECTOR   \n",
       "22456    John Iii Franklin                    Himself     ACTOR   \n",
       "29557         Claudio Roca                   Nicol?­s     ACTOR   \n",
       "...                    ...                        ...       ...   \n",
       "85569       Jessica Cediel            Liliana Navarro     ACTOR   \n",
       "85570  Javier Gardeaz?­bal   Agust??n \"Peluca\" Ort??z     ACTOR   \n",
       "85571        Carla Giraldo             Valery Reinoso     ACTOR   \n",
       "85572  Ana Mar??a S?­nchez                    Lourdes     ACTOR   \n",
       "85577         Isabel Gaona                     Cacica     ACTOR   \n",
       "\n",
       "                                 title   type  release_year  \\\n",
       "7561                   How Do You Know  MOVIE          2010   \n",
       "14512  A Very Harold & Kumar Christmas  MOVIE          2011   \n",
       "18952                       Sammy & Co   SHOW          2014   \n",
       "22456                    Last Chance U   SHOW          2016   \n",
       "29557                   Narcos: Mexico   SHOW          2018   \n",
       "...                                ...    ...           ...   \n",
       "85569                          Lokillo  MOVIE          2021   \n",
       "85570                          Lokillo  MOVIE          2021   \n",
       "85571                          Lokillo  MOVIE          2021   \n",
       "85572                          Lokillo  MOVIE          2021   \n",
       "85577                          Lokillo  MOVIE          2021   \n",
       "\n",
       "                                 genres  imdb_score  imdb_votes  \n",
       "7561     ['comedy', 'drama', 'romance']         5.4     50383.0  \n",
       "14512  ['comedy', 'fantasy', 'romance']         6.2     69562.0  \n",
       "18952         ['animation', 'european']         5.7        31.0  \n",
       "22456        ['documentation', 'sport']         8.4      6897.0  \n",
       "29557                ['drama', 'crime']         8.4     82042.0  \n",
       "...                                 ...         ...         ...  \n",
       "85569                        ['comedy']         3.8        68.0  \n",
       "85570                        ['comedy']         3.8        68.0  \n",
       "85571                        ['comedy']         3.8        68.0  \n",
       "85572                        ['comedy']         3.8        68.0  \n",
       "85577                        ['comedy']         3.8        68.0  \n",
       "\n",
       "[6994 rows x 9 columns]"
      ]
     },
     "execution_count": 12,
     "metadata": {},
     "output_type": "execute_result"
    }
   ],
   "source": [
    "# Produce table with duplicates (with original rows included) and review last 5 rows\n",
    "duplicated = df[df.duplicated()]\n",
    "duplicated"
   ]
  },
  {
   "cell_type": "markdown",
   "id": "a1ed6640",
   "metadata": {},
   "source": [
    "There are two clear duplicates in the printed rows. We can safely remove them.\n",
    "Call the `pandas` method for getting rid of duplicate rows:"
   ]
  },
  {
   "cell_type": "code",
   "execution_count": 13,
   "id": "724d5bc8",
   "metadata": {
    "trusted": false
   },
   "outputs": [],
   "source": [
    "# removing duplicate rows\n",
    "df = df.drop_duplicates().reset_index(drop=True)"
   ]
  },
  {
   "cell_type": "markdown",
   "id": "fc8c77ba",
   "metadata": {},
   "source": [
    "Check for duplicate rows once more to make sure you have removed all of them:"
   ]
  },
  {
   "cell_type": "code",
   "execution_count": 14,
   "id": "8091a9bc",
   "metadata": {
    "trusted": false
   },
   "outputs": [
    {
     "data": {
      "text/html": [
       "<div>\n",
       "<style scoped>\n",
       "    .dataframe tbody tr th:only-of-type {\n",
       "        vertical-align: middle;\n",
       "    }\n",
       "\n",
       "    .dataframe tbody tr th {\n",
       "        vertical-align: top;\n",
       "    }\n",
       "\n",
       "    .dataframe thead th {\n",
       "        text-align: right;\n",
       "    }\n",
       "</style>\n",
       "<table border=\"1\" class=\"dataframe\">\n",
       "  <thead>\n",
       "    <tr style=\"text-align: right;\">\n",
       "      <th></th>\n",
       "      <th>name</th>\n",
       "      <th>character</th>\n",
       "      <th>role</th>\n",
       "      <th>title</th>\n",
       "      <th>type</th>\n",
       "      <th>release_year</th>\n",
       "      <th>genres</th>\n",
       "      <th>imdb_score</th>\n",
       "      <th>imdb_votes</th>\n",
       "    </tr>\n",
       "  </thead>\n",
       "  <tbody>\n",
       "    <tr>\n",
       "      <th>0</th>\n",
       "      <td>Robert De Niro</td>\n",
       "      <td>Travis Bickle</td>\n",
       "      <td>ACTOR</td>\n",
       "      <td>Taxi Driver</td>\n",
       "      <td>MOVIE</td>\n",
       "      <td>1976</td>\n",
       "      <td>['drama', 'crime']</td>\n",
       "      <td>8.2</td>\n",
       "      <td>808582.0</td>\n",
       "    </tr>\n",
       "    <tr>\n",
       "      <th>1</th>\n",
       "      <td>Jodie Foster</td>\n",
       "      <td>Iris Steensma</td>\n",
       "      <td>ACTOR</td>\n",
       "      <td>Taxi Driver</td>\n",
       "      <td>MOVIE</td>\n",
       "      <td>1976</td>\n",
       "      <td>['drama', 'crime']</td>\n",
       "      <td>8.2</td>\n",
       "      <td>808582.0</td>\n",
       "    </tr>\n",
       "    <tr>\n",
       "      <th>2</th>\n",
       "      <td>Albert Brooks</td>\n",
       "      <td>Tom</td>\n",
       "      <td>ACTOR</td>\n",
       "      <td>Taxi Driver</td>\n",
       "      <td>MOVIE</td>\n",
       "      <td>1976</td>\n",
       "      <td>['drama', 'crime']</td>\n",
       "      <td>8.2</td>\n",
       "      <td>808582.0</td>\n",
       "    </tr>\n",
       "    <tr>\n",
       "      <th>3</th>\n",
       "      <td>Harvey Keitel</td>\n",
       "      <td>Matthew 'Sport' Higgins</td>\n",
       "      <td>ACTOR</td>\n",
       "      <td>Taxi Driver</td>\n",
       "      <td>MOVIE</td>\n",
       "      <td>1976</td>\n",
       "      <td>['drama', 'crime']</td>\n",
       "      <td>8.2</td>\n",
       "      <td>808582.0</td>\n",
       "    </tr>\n",
       "    <tr>\n",
       "      <th>4</th>\n",
       "      <td>Cybill Shepherd</td>\n",
       "      <td>Betsy</td>\n",
       "      <td>ACTOR</td>\n",
       "      <td>Taxi Driver</td>\n",
       "      <td>MOVIE</td>\n",
       "      <td>1976</td>\n",
       "      <td>['drama', 'crime']</td>\n",
       "      <td>8.2</td>\n",
       "      <td>808582.0</td>\n",
       "    </tr>\n",
       "    <tr>\n",
       "      <th>...</th>\n",
       "      <td>...</td>\n",
       "      <td>...</td>\n",
       "      <td>...</td>\n",
       "      <td>...</td>\n",
       "      <td>...</td>\n",
       "      <td>...</td>\n",
       "      <td>...</td>\n",
       "      <td>...</td>\n",
       "      <td>...</td>\n",
       "    </tr>\n",
       "    <tr>\n",
       "      <th>73854</th>\n",
       "      <td>A??da Morales</td>\n",
       "      <td>Maritza</td>\n",
       "      <td>ACTOR</td>\n",
       "      <td>Lokillo</td>\n",
       "      <td>the movie</td>\n",
       "      <td>2021</td>\n",
       "      <td>['comedy']</td>\n",
       "      <td>3.8</td>\n",
       "      <td>68.0</td>\n",
       "    </tr>\n",
       "    <tr>\n",
       "      <th>73855</th>\n",
       "      <td>Adelaida Buscato</td>\n",
       "      <td>Mar??a Paz</td>\n",
       "      <td>ACTOR</td>\n",
       "      <td>Lokillo</td>\n",
       "      <td>the movie</td>\n",
       "      <td>2021</td>\n",
       "      <td>['comedy']</td>\n",
       "      <td>3.8</td>\n",
       "      <td>68.0</td>\n",
       "    </tr>\n",
       "    <tr>\n",
       "      <th>73856</th>\n",
       "      <td>Luz Stella Luengas</td>\n",
       "      <td>Karen Bayona</td>\n",
       "      <td>ACTOR</td>\n",
       "      <td>Lokillo</td>\n",
       "      <td>the movie</td>\n",
       "      <td>2021</td>\n",
       "      <td>['comedy']</td>\n",
       "      <td>3.8</td>\n",
       "      <td>68.0</td>\n",
       "    </tr>\n",
       "    <tr>\n",
       "      <th>73857</th>\n",
       "      <td>In??s Prieto</td>\n",
       "      <td>Fanny</td>\n",
       "      <td>ACTOR</td>\n",
       "      <td>Lokillo</td>\n",
       "      <td>the movie</td>\n",
       "      <td>2021</td>\n",
       "      <td>['comedy']</td>\n",
       "      <td>3.8</td>\n",
       "      <td>68.0</td>\n",
       "    </tr>\n",
       "    <tr>\n",
       "      <th>73858</th>\n",
       "      <td>Julian Gaviria</td>\n",
       "      <td>unknown</td>\n",
       "      <td>DIRECTOR</td>\n",
       "      <td>Lokillo</td>\n",
       "      <td>the movie</td>\n",
       "      <td>2021</td>\n",
       "      <td>['comedy']</td>\n",
       "      <td>3.8</td>\n",
       "      <td>68.0</td>\n",
       "    </tr>\n",
       "  </tbody>\n",
       "</table>\n",
       "<p>73859 rows × 9 columns</p>\n",
       "</div>"
      ],
      "text/plain": [
       "                     name                character      role        title  \\\n",
       "0          Robert De Niro            Travis Bickle     ACTOR  Taxi Driver   \n",
       "1            Jodie Foster            Iris Steensma     ACTOR  Taxi Driver   \n",
       "2           Albert Brooks                      Tom     ACTOR  Taxi Driver   \n",
       "3           Harvey Keitel  Matthew 'Sport' Higgins     ACTOR  Taxi Driver   \n",
       "4         Cybill Shepherd                    Betsy     ACTOR  Taxi Driver   \n",
       "...                   ...                      ...       ...          ...   \n",
       "73854       A??da Morales                  Maritza     ACTOR      Lokillo   \n",
       "73855    Adelaida Buscato               Mar??a Paz     ACTOR      Lokillo   \n",
       "73856  Luz Stella Luengas             Karen Bayona     ACTOR      Lokillo   \n",
       "73857        In??s Prieto                    Fanny     ACTOR      Lokillo   \n",
       "73858      Julian Gaviria                  unknown  DIRECTOR      Lokillo   \n",
       "\n",
       "            type  release_year              genres  imdb_score  imdb_votes  \n",
       "0          MOVIE          1976  ['drama', 'crime']         8.2    808582.0  \n",
       "1          MOVIE          1976  ['drama', 'crime']         8.2    808582.0  \n",
       "2          MOVIE          1976  ['drama', 'crime']         8.2    808582.0  \n",
       "3          MOVIE          1976  ['drama', 'crime']         8.2    808582.0  \n",
       "4          MOVIE          1976  ['drama', 'crime']         8.2    808582.0  \n",
       "...          ...           ...                 ...         ...         ...  \n",
       "73854  the movie          2021          ['comedy']         3.8        68.0  \n",
       "73855  the movie          2021          ['comedy']         3.8        68.0  \n",
       "73856  the movie          2021          ['comedy']         3.8        68.0  \n",
       "73857  the movie          2021          ['comedy']         3.8        68.0  \n",
       "73858  the movie          2021          ['comedy']         3.8        68.0  \n",
       "\n",
       "[73859 rows x 9 columns]"
      ]
     },
     "execution_count": 14,
     "metadata": {},
     "output_type": "execute_result"
    }
   ],
   "source": [
    "# checking for duplicates\n",
    "df"
   ]
  },
  {
   "cell_type": "markdown",
   "id": "1d802b07",
   "metadata": {},
   "source": [
    "Now get rid of implicit duplicates in the `'type'` column. For example, the string `'SHOW'` can be written in different ways. These kinds of errors will also affect the result."
   ]
  },
  {
   "cell_type": "markdown",
   "id": "d5f987ed",
   "metadata": {},
   "source": [
    "Print a list of unique `'type'` names, sorted in alphabetical order. To do so:\n",
    "* Retrieve the intended dataframe column \n",
    "* Apply a sorting method to it\n",
    "* For the sorted column, call the method that will return all unique column values"
   ]
  },
  {
   "cell_type": "code",
   "execution_count": 15,
   "id": "3d7b0ac5",
   "metadata": {
    "trusted": false
   },
   "outputs": [
    {
     "data": {
      "text/plain": [
       "array(['MOVIE', 'the movie', 'tv show', 'shows', 'movies', 'tv shows',\n",
       "       'tv series', 'tv', 'SHOW'], dtype=object)"
      ]
     },
     "execution_count": 15,
     "metadata": {},
     "output_type": "execute_result"
    }
   ],
   "source": [
    "# viewing unique type names\n",
    "implicit_duplicate_type = df['type'].unique()\n",
    "implicit_duplicate_type"
   ]
  },
  {
   "cell_type": "markdown",
   "id": "ac6e8b18",
   "metadata": {},
   "source": [
    "Look through the list to find implicit duplicates of `'show'` (`'movie'` duplicates will be ignored since the assumption is about shows). These could be names written incorrectly or alternative names of the same genre.\n",
    "\n",
    "You will see the following implicit duplicates:\n",
    "* `'shows'`\n",
    "* `'SHOW'`\n",
    "* `'tv show'`\n",
    "* `'tv shows'`\n",
    "* `'tv series'`\n",
    "* `'tv'`\n",
    "\n",
    "To get rid of them, declare the function `replace_wrong_show()` with two parameters: \n",
    "* `wrong_shows_list=` — the list of duplicates\n",
    "* `correct_show=` — the string with the correct value\n",
    "\n",
    "The function should correct the names in the `'type'` column from the `df` table (i.e., replace each value from the `wrong_shows_list` list with the value in `correct_show`)."
   ]
  },
  {
   "cell_type": "code",
   "execution_count": 16,
   "id": "bff944f9",
   "metadata": {
    "trusted": false
   },
   "outputs": [],
   "source": [
    "# function for replacing implicit duplicates\n",
    "wrong_shows_list = ['shows', 'SHOW', 'tv show', 'tv shows', 'tv series', 'tv']\n",
    "correct_show = 'show'\n",
    "def replace_wrong_show(wrong_shows_list, correct_show):\n",
    "    df['type'] = df['type'].replace(wrong_shows_list, correct_show)\n"
   ]
  },
  {
   "cell_type": "markdown",
   "id": "d02d13a6",
   "metadata": {},
   "source": [
    "Call `replace_wrong_show()` and pass it arguments so that it clears implicit duplicates and replaces them with `SHOW`:"
   ]
  },
  {
   "cell_type": "code",
   "execution_count": 17,
   "id": "a2217e53",
   "metadata": {
    "trusted": false
   },
   "outputs": [],
   "source": [
    "# removing implicit duplicates\n",
    "replace_wrong_show(wrong_shows_list, correct_show)"
   ]
  },
  {
   "cell_type": "markdown",
   "id": "318b09f7",
   "metadata": {},
   "source": [
    "Make sure the duplicate names are removed. Print the list of unique values from the `'type'` column:"
   ]
  },
  {
   "cell_type": "code",
   "execution_count": 18,
   "id": "25d49d73",
   "metadata": {
    "trusted": false
   },
   "outputs": [
    {
     "data": {
      "text/plain": [
       "array(['MOVIE', 'the movie', 'show', 'movies'], dtype=object)"
      ]
     },
     "execution_count": 18,
     "metadata": {},
     "output_type": "execute_result"
    }
   ],
   "source": [
    "# viewing unique genre names\n",
    "df['type'].unique()"
   ]
  },
  {
   "cell_type": "markdown",
   "id": "18b2049e",
   "metadata": {},
   "source": [
    "### Conclusions <a id='data_preprocessing_conclusions'></a>\n",
    "We detected three issues with the data:\n",
    "\n",
    "- Incorrect header styles\n",
    "- Missing values\n",
    "- Duplicate rows and implicit duplicates\n",
    "\n",
    "The headers have been cleaned up to make processing the table simpler.\n",
    "\n",
    "All rows with missing values have been removed. \n",
    "\n",
    "The absence of duplicates will make the results more precise and easier to understand.\n",
    "\n",
    "Now we can move on to our analysis of the prepared data."
   ]
  },
  {
   "cell_type": "markdown",
   "id": "1aa0f1b1",
   "metadata": {},
   "source": [
    "## Stage 3. Data analysis <a id='hypotheses'></a>"
   ]
  },
  {
   "cell_type": "markdown",
   "id": "f8fb6a0e",
   "metadata": {},
   "source": [
    "Based on the previous project stages, you can now define how the assumption will be checked. Calculate the average amount of votes for each score (this data is available in the `imdb_score` and `imdb_votes` columns), and then check how these averages relate to each other. If the averages for shows with the highest scores are bigger than those for shows with lower scores, the assumption appears to be true.\n",
    "\n",
    "Based on this, complete the following steps:\n",
    "\n",
    "- Filter the dataframe to only include shows released in 1999 or later.\n",
    "- Group scores into buckets by rounding the values of the appropriate column (a set of 1-10 integers will help us make the outcome of our calculations more evident without damaging the quality of our research).\n",
    "- Identify outliers among scores based on their number of votes, and exclude scores with few votes.\n",
    "- Calculate the average votes for each score and check whether the assumption matches the results."
   ]
  },
  {
   "cell_type": "markdown",
   "id": "0ea2cb51",
   "metadata": {},
   "source": [
    "To filter the dataframe and only include shows released in 1999 or later, you will take two steps. First, keep only titles published in 1999 or later in our dataframe. Then, filter the table to only contain shows (movies will be removed)."
   ]
  },
  {
   "cell_type": "code",
   "execution_count": 19,
   "id": "6a704aa1",
   "metadata": {
    "trusted": false
   },
   "outputs": [
    {
     "data": {
      "text/html": [
       "<div>\n",
       "<style scoped>\n",
       "    .dataframe tbody tr th:only-of-type {\n",
       "        vertical-align: middle;\n",
       "    }\n",
       "\n",
       "    .dataframe tbody tr th {\n",
       "        vertical-align: top;\n",
       "    }\n",
       "\n",
       "    .dataframe thead th {\n",
       "        text-align: right;\n",
       "    }\n",
       "</style>\n",
       "<table border=\"1\" class=\"dataframe\">\n",
       "  <thead>\n",
       "    <tr style=\"text-align: right;\">\n",
       "      <th></th>\n",
       "      <th>name</th>\n",
       "      <th>character</th>\n",
       "      <th>role</th>\n",
       "      <th>title</th>\n",
       "      <th>type</th>\n",
       "      <th>release_year</th>\n",
       "      <th>genres</th>\n",
       "      <th>imdb_score</th>\n",
       "      <th>imdb_votes</th>\n",
       "    </tr>\n",
       "  </thead>\n",
       "  <tbody>\n",
       "    <tr>\n",
       "      <th>1661</th>\n",
       "      <td>Jeff Probst</td>\n",
       "      <td>Himself - Host</td>\n",
       "      <td>ACTOR</td>\n",
       "      <td>Survivor</td>\n",
       "      <td>show</td>\n",
       "      <td>2000</td>\n",
       "      <td>['reality']</td>\n",
       "      <td>7.4</td>\n",
       "      <td>24687.0</td>\n",
       "    </tr>\n",
       "    <tr>\n",
       "      <th>1952</th>\n",
       "      <td>Benicio del Toro</td>\n",
       "      <td>Franky Four Fingers</td>\n",
       "      <td>ACTOR</td>\n",
       "      <td>Snatch</td>\n",
       "      <td>MOVIE</td>\n",
       "      <td>2000</td>\n",
       "      <td>['crime', 'comedy']</td>\n",
       "      <td>8.3</td>\n",
       "      <td>841435.0</td>\n",
       "    </tr>\n",
       "    <tr>\n",
       "      <th>1953</th>\n",
       "      <td>Dennis Farina</td>\n",
       "      <td>Cousin Avi</td>\n",
       "      <td>ACTOR</td>\n",
       "      <td>Snatch</td>\n",
       "      <td>MOVIE</td>\n",
       "      <td>2000</td>\n",
       "      <td>['crime', 'comedy']</td>\n",
       "      <td>8.3</td>\n",
       "      <td>841435.0</td>\n",
       "    </tr>\n",
       "    <tr>\n",
       "      <th>1954</th>\n",
       "      <td>Vinnie Jones</td>\n",
       "      <td>Bullet Tooth Tony</td>\n",
       "      <td>ACTOR</td>\n",
       "      <td>Snatch</td>\n",
       "      <td>MOVIE</td>\n",
       "      <td>2000</td>\n",
       "      <td>['crime', 'comedy']</td>\n",
       "      <td>8.3</td>\n",
       "      <td>841435.0</td>\n",
       "    </tr>\n",
       "    <tr>\n",
       "      <th>1955</th>\n",
       "      <td>Brad Pitt</td>\n",
       "      <td>Mickey O'Neil</td>\n",
       "      <td>ACTOR</td>\n",
       "      <td>Snatch</td>\n",
       "      <td>MOVIE</td>\n",
       "      <td>2000</td>\n",
       "      <td>['crime', 'comedy']</td>\n",
       "      <td>8.3</td>\n",
       "      <td>841435.0</td>\n",
       "    </tr>\n",
       "    <tr>\n",
       "      <th>...</th>\n",
       "      <td>...</td>\n",
       "      <td>...</td>\n",
       "      <td>...</td>\n",
       "      <td>...</td>\n",
       "      <td>...</td>\n",
       "      <td>...</td>\n",
       "      <td>...</td>\n",
       "      <td>...</td>\n",
       "      <td>...</td>\n",
       "    </tr>\n",
       "    <tr>\n",
       "      <th>73854</th>\n",
       "      <td>A??da Morales</td>\n",
       "      <td>Maritza</td>\n",
       "      <td>ACTOR</td>\n",
       "      <td>Lokillo</td>\n",
       "      <td>the movie</td>\n",
       "      <td>2021</td>\n",
       "      <td>['comedy']</td>\n",
       "      <td>3.8</td>\n",
       "      <td>68.0</td>\n",
       "    </tr>\n",
       "    <tr>\n",
       "      <th>73855</th>\n",
       "      <td>Adelaida Buscato</td>\n",
       "      <td>Mar??a Paz</td>\n",
       "      <td>ACTOR</td>\n",
       "      <td>Lokillo</td>\n",
       "      <td>the movie</td>\n",
       "      <td>2021</td>\n",
       "      <td>['comedy']</td>\n",
       "      <td>3.8</td>\n",
       "      <td>68.0</td>\n",
       "    </tr>\n",
       "    <tr>\n",
       "      <th>73856</th>\n",
       "      <td>Luz Stella Luengas</td>\n",
       "      <td>Karen Bayona</td>\n",
       "      <td>ACTOR</td>\n",
       "      <td>Lokillo</td>\n",
       "      <td>the movie</td>\n",
       "      <td>2021</td>\n",
       "      <td>['comedy']</td>\n",
       "      <td>3.8</td>\n",
       "      <td>68.0</td>\n",
       "    </tr>\n",
       "    <tr>\n",
       "      <th>73857</th>\n",
       "      <td>In??s Prieto</td>\n",
       "      <td>Fanny</td>\n",
       "      <td>ACTOR</td>\n",
       "      <td>Lokillo</td>\n",
       "      <td>the movie</td>\n",
       "      <td>2021</td>\n",
       "      <td>['comedy']</td>\n",
       "      <td>3.8</td>\n",
       "      <td>68.0</td>\n",
       "    </tr>\n",
       "    <tr>\n",
       "      <th>73858</th>\n",
       "      <td>Julian Gaviria</td>\n",
       "      <td>unknown</td>\n",
       "      <td>DIRECTOR</td>\n",
       "      <td>Lokillo</td>\n",
       "      <td>the movie</td>\n",
       "      <td>2021</td>\n",
       "      <td>['comedy']</td>\n",
       "      <td>3.8</td>\n",
       "      <td>68.0</td>\n",
       "    </tr>\n",
       "  </tbody>\n",
       "</table>\n",
       "<p>69881 rows × 9 columns</p>\n",
       "</div>"
      ],
      "text/plain": [
       "                     name            character      role     title       type  \\\n",
       "1661          Jeff Probst       Himself - Host     ACTOR  Survivor       show   \n",
       "1952     Benicio del Toro  Franky Four Fingers     ACTOR    Snatch      MOVIE   \n",
       "1953        Dennis Farina           Cousin Avi     ACTOR    Snatch      MOVIE   \n",
       "1954         Vinnie Jones    Bullet Tooth Tony     ACTOR    Snatch      MOVIE   \n",
       "1955            Brad Pitt        Mickey O'Neil     ACTOR    Snatch      MOVIE   \n",
       "...                   ...                  ...       ...       ...        ...   \n",
       "73854       A??da Morales              Maritza     ACTOR   Lokillo  the movie   \n",
       "73855    Adelaida Buscato           Mar??a Paz     ACTOR   Lokillo  the movie   \n",
       "73856  Luz Stella Luengas         Karen Bayona     ACTOR   Lokillo  the movie   \n",
       "73857        In??s Prieto                Fanny     ACTOR   Lokillo  the movie   \n",
       "73858      Julian Gaviria              unknown  DIRECTOR   Lokillo  the movie   \n",
       "\n",
       "       release_year               genres  imdb_score  imdb_votes  \n",
       "1661           2000          ['reality']         7.4     24687.0  \n",
       "1952           2000  ['crime', 'comedy']         8.3    841435.0  \n",
       "1953           2000  ['crime', 'comedy']         8.3    841435.0  \n",
       "1954           2000  ['crime', 'comedy']         8.3    841435.0  \n",
       "1955           2000  ['crime', 'comedy']         8.3    841435.0  \n",
       "...             ...                  ...         ...         ...  \n",
       "73854          2021           ['comedy']         3.8        68.0  \n",
       "73855          2021           ['comedy']         3.8        68.0  \n",
       "73856          2021           ['comedy']         3.8        68.0  \n",
       "73857          2021           ['comedy']         3.8        68.0  \n",
       "73858          2021           ['comedy']         3.8        68.0  \n",
       "\n",
       "[69881 rows x 9 columns]"
      ]
     },
     "metadata": {},
     "output_type": "display_data"
    },
    {
     "data": {
      "text/html": [
       "<div>\n",
       "<style scoped>\n",
       "    .dataframe tbody tr th:only-of-type {\n",
       "        vertical-align: middle;\n",
       "    }\n",
       "\n",
       "    .dataframe tbody tr th {\n",
       "        vertical-align: top;\n",
       "    }\n",
       "\n",
       "    .dataframe thead th {\n",
       "        text-align: right;\n",
       "    }\n",
       "</style>\n",
       "<table border=\"1\" class=\"dataframe\">\n",
       "  <thead>\n",
       "    <tr style=\"text-align: right;\">\n",
       "      <th></th>\n",
       "      <th>name</th>\n",
       "      <th>character</th>\n",
       "      <th>role</th>\n",
       "      <th>title</th>\n",
       "      <th>type</th>\n",
       "      <th>release_year</th>\n",
       "      <th>genres</th>\n",
       "      <th>imdb_score</th>\n",
       "      <th>imdb_votes</th>\n",
       "    </tr>\n",
       "  </thead>\n",
       "  <tbody>\n",
       "    <tr>\n",
       "      <th>1661</th>\n",
       "      <td>Jeff Probst</td>\n",
       "      <td>Himself - Host</td>\n",
       "      <td>ACTOR</td>\n",
       "      <td>Survivor</td>\n",
       "      <td>show</td>\n",
       "      <td>2000</td>\n",
       "      <td>['reality']</td>\n",
       "      <td>7.4</td>\n",
       "      <td>24687.0</td>\n",
       "    </tr>\n",
       "    <tr>\n",
       "      <th>1952</th>\n",
       "      <td>Benicio del Toro</td>\n",
       "      <td>Franky Four Fingers</td>\n",
       "      <td>ACTOR</td>\n",
       "      <td>Snatch</td>\n",
       "      <td>MOVIE</td>\n",
       "      <td>2000</td>\n",
       "      <td>['crime', 'comedy']</td>\n",
       "      <td>8.3</td>\n",
       "      <td>841435.0</td>\n",
       "    </tr>\n",
       "    <tr>\n",
       "      <th>1953</th>\n",
       "      <td>Dennis Farina</td>\n",
       "      <td>Cousin Avi</td>\n",
       "      <td>ACTOR</td>\n",
       "      <td>Snatch</td>\n",
       "      <td>MOVIE</td>\n",
       "      <td>2000</td>\n",
       "      <td>['crime', 'comedy']</td>\n",
       "      <td>8.3</td>\n",
       "      <td>841435.0</td>\n",
       "    </tr>\n",
       "    <tr>\n",
       "      <th>1954</th>\n",
       "      <td>Vinnie Jones</td>\n",
       "      <td>Bullet Tooth Tony</td>\n",
       "      <td>ACTOR</td>\n",
       "      <td>Snatch</td>\n",
       "      <td>MOVIE</td>\n",
       "      <td>2000</td>\n",
       "      <td>['crime', 'comedy']</td>\n",
       "      <td>8.3</td>\n",
       "      <td>841435.0</td>\n",
       "    </tr>\n",
       "    <tr>\n",
       "      <th>1955</th>\n",
       "      <td>Brad Pitt</td>\n",
       "      <td>Mickey O'Neil</td>\n",
       "      <td>ACTOR</td>\n",
       "      <td>Snatch</td>\n",
       "      <td>MOVIE</td>\n",
       "      <td>2000</td>\n",
       "      <td>['crime', 'comedy']</td>\n",
       "      <td>8.3</td>\n",
       "      <td>841435.0</td>\n",
       "    </tr>\n",
       "    <tr>\n",
       "      <th>...</th>\n",
       "      <td>...</td>\n",
       "      <td>...</td>\n",
       "      <td>...</td>\n",
       "      <td>...</td>\n",
       "      <td>...</td>\n",
       "      <td>...</td>\n",
       "      <td>...</td>\n",
       "      <td>...</td>\n",
       "      <td>...</td>\n",
       "    </tr>\n",
       "    <tr>\n",
       "      <th>73854</th>\n",
       "      <td>A??da Morales</td>\n",
       "      <td>Maritza</td>\n",
       "      <td>ACTOR</td>\n",
       "      <td>Lokillo</td>\n",
       "      <td>the movie</td>\n",
       "      <td>2021</td>\n",
       "      <td>['comedy']</td>\n",
       "      <td>3.8</td>\n",
       "      <td>68.0</td>\n",
       "    </tr>\n",
       "    <tr>\n",
       "      <th>73855</th>\n",
       "      <td>Adelaida Buscato</td>\n",
       "      <td>Mar??a Paz</td>\n",
       "      <td>ACTOR</td>\n",
       "      <td>Lokillo</td>\n",
       "      <td>the movie</td>\n",
       "      <td>2021</td>\n",
       "      <td>['comedy']</td>\n",
       "      <td>3.8</td>\n",
       "      <td>68.0</td>\n",
       "    </tr>\n",
       "    <tr>\n",
       "      <th>73856</th>\n",
       "      <td>Luz Stella Luengas</td>\n",
       "      <td>Karen Bayona</td>\n",
       "      <td>ACTOR</td>\n",
       "      <td>Lokillo</td>\n",
       "      <td>the movie</td>\n",
       "      <td>2021</td>\n",
       "      <td>['comedy']</td>\n",
       "      <td>3.8</td>\n",
       "      <td>68.0</td>\n",
       "    </tr>\n",
       "    <tr>\n",
       "      <th>73857</th>\n",
       "      <td>In??s Prieto</td>\n",
       "      <td>Fanny</td>\n",
       "      <td>ACTOR</td>\n",
       "      <td>Lokillo</td>\n",
       "      <td>the movie</td>\n",
       "      <td>2021</td>\n",
       "      <td>['comedy']</td>\n",
       "      <td>3.8</td>\n",
       "      <td>68.0</td>\n",
       "    </tr>\n",
       "    <tr>\n",
       "      <th>73858</th>\n",
       "      <td>Julian Gaviria</td>\n",
       "      <td>unknown</td>\n",
       "      <td>DIRECTOR</td>\n",
       "      <td>Lokillo</td>\n",
       "      <td>the movie</td>\n",
       "      <td>2021</td>\n",
       "      <td>['comedy']</td>\n",
       "      <td>3.8</td>\n",
       "      <td>68.0</td>\n",
       "    </tr>\n",
       "  </tbody>\n",
       "</table>\n",
       "<p>69881 rows × 9 columns</p>\n",
       "</div>"
      ],
      "text/plain": [
       "                     name            character      role     title       type  \\\n",
       "1661          Jeff Probst       Himself - Host     ACTOR  Survivor       show   \n",
       "1952     Benicio del Toro  Franky Four Fingers     ACTOR    Snatch      MOVIE   \n",
       "1953        Dennis Farina           Cousin Avi     ACTOR    Snatch      MOVIE   \n",
       "1954         Vinnie Jones    Bullet Tooth Tony     ACTOR    Snatch      MOVIE   \n",
       "1955            Brad Pitt        Mickey O'Neil     ACTOR    Snatch      MOVIE   \n",
       "...                   ...                  ...       ...       ...        ...   \n",
       "73854       A??da Morales              Maritza     ACTOR   Lokillo  the movie   \n",
       "73855    Adelaida Buscato           Mar??a Paz     ACTOR   Lokillo  the movie   \n",
       "73856  Luz Stella Luengas         Karen Bayona     ACTOR   Lokillo  the movie   \n",
       "73857        In??s Prieto                Fanny     ACTOR   Lokillo  the movie   \n",
       "73858      Julian Gaviria              unknown  DIRECTOR   Lokillo  the movie   \n",
       "\n",
       "       release_year               genres  imdb_score  imdb_votes  \n",
       "1661           2000          ['reality']         7.4     24687.0  \n",
       "1952           2000  ['crime', 'comedy']         8.3    841435.0  \n",
       "1953           2000  ['crime', 'comedy']         8.3    841435.0  \n",
       "1954           2000  ['crime', 'comedy']         8.3    841435.0  \n",
       "1955           2000  ['crime', 'comedy']         8.3    841435.0  \n",
       "...             ...                  ...         ...         ...  \n",
       "73854          2021           ['comedy']         3.8        68.0  \n",
       "73855          2021           ['comedy']         3.8        68.0  \n",
       "73856          2021           ['comedy']         3.8        68.0  \n",
       "73857          2021           ['comedy']         3.8        68.0  \n",
       "73858          2021           ['comedy']         3.8        68.0  \n",
       "\n",
       "[69881 rows x 9 columns]"
      ]
     },
     "metadata": {},
     "output_type": "display_data"
    }
   ],
   "source": [
    "# using conditional indexing modify df so it has only titles released after 1999 (with 1999 included)\n",
    "display(df[df['release_year'] >= 1999])\n",
    "\n",
    "# give the slice of dataframe new name\n",
    "df_99_show = df[df['release_year'] >= 1999]\n",
    "display(df_99_show)"
   ]
  },
  {
   "cell_type": "code",
   "execution_count": 20,
   "id": "128dc6a9",
   "metadata": {
    "scrolled": true,
    "trusted": false
   },
   "outputs": [
    {
     "data": {
      "text/html": [
       "<div>\n",
       "<style scoped>\n",
       "    .dataframe tbody tr th:only-of-type {\n",
       "        vertical-align: middle;\n",
       "    }\n",
       "\n",
       "    .dataframe tbody tr th {\n",
       "        vertical-align: top;\n",
       "    }\n",
       "\n",
       "    .dataframe thead th {\n",
       "        text-align: right;\n",
       "    }\n",
       "</style>\n",
       "<table border=\"1\" class=\"dataframe\">\n",
       "  <thead>\n",
       "    <tr style=\"text-align: right;\">\n",
       "      <th></th>\n",
       "      <th>name</th>\n",
       "      <th>character</th>\n",
       "      <th>role</th>\n",
       "      <th>title</th>\n",
       "      <th>type</th>\n",
       "      <th>release_year</th>\n",
       "      <th>genres</th>\n",
       "      <th>imdb_score</th>\n",
       "      <th>imdb_votes</th>\n",
       "    </tr>\n",
       "  </thead>\n",
       "  <tbody>\n",
       "    <tr>\n",
       "      <th>163</th>\n",
       "      <td>Graham Chapman</td>\n",
       "      <td>Various</td>\n",
       "      <td>ACTOR</td>\n",
       "      <td>Monty Python's Flying Circus</td>\n",
       "      <td>show</td>\n",
       "      <td>1969</td>\n",
       "      <td>['comedy', 'european']</td>\n",
       "      <td>8.8</td>\n",
       "      <td>73424.0</td>\n",
       "    </tr>\n",
       "    <tr>\n",
       "      <th>164</th>\n",
       "      <td>Michael Palin</td>\n",
       "      <td>Various / \"It's\" man</td>\n",
       "      <td>ACTOR</td>\n",
       "      <td>Monty Python's Flying Circus</td>\n",
       "      <td>show</td>\n",
       "      <td>1969</td>\n",
       "      <td>['comedy', 'european']</td>\n",
       "      <td>8.8</td>\n",
       "      <td>73424.0</td>\n",
       "    </tr>\n",
       "    <tr>\n",
       "      <th>165</th>\n",
       "      <td>Terry Jones</td>\n",
       "      <td>Various</td>\n",
       "      <td>ACTOR</td>\n",
       "      <td>Monty Python's Flying Circus</td>\n",
       "      <td>show</td>\n",
       "      <td>1969</td>\n",
       "      <td>['comedy', 'european']</td>\n",
       "      <td>8.8</td>\n",
       "      <td>73424.0</td>\n",
       "    </tr>\n",
       "    <tr>\n",
       "      <th>166</th>\n",
       "      <td>Eric Idle</td>\n",
       "      <td>Various</td>\n",
       "      <td>ACTOR</td>\n",
       "      <td>Monty Python's Flying Circus</td>\n",
       "      <td>show</td>\n",
       "      <td>1969</td>\n",
       "      <td>['comedy', 'european']</td>\n",
       "      <td>8.8</td>\n",
       "      <td>73424.0</td>\n",
       "    </tr>\n",
       "    <tr>\n",
       "      <th>167</th>\n",
       "      <td>Terry Gilliam</td>\n",
       "      <td>Various</td>\n",
       "      <td>ACTOR</td>\n",
       "      <td>Monty Python's Flying Circus</td>\n",
       "      <td>show</td>\n",
       "      <td>1969</td>\n",
       "      <td>['comedy', 'european']</td>\n",
       "      <td>8.8</td>\n",
       "      <td>73424.0</td>\n",
       "    </tr>\n",
       "    <tr>\n",
       "      <th>...</th>\n",
       "      <td>...</td>\n",
       "      <td>...</td>\n",
       "      <td>...</td>\n",
       "      <td>...</td>\n",
       "      <td>...</td>\n",
       "      <td>...</td>\n",
       "      <td>...</td>\n",
       "      <td>...</td>\n",
       "      <td>...</td>\n",
       "    </tr>\n",
       "    <tr>\n",
       "      <th>73831</th>\n",
       "      <td>Maneerat Kam-Uan</td>\n",
       "      <td>Ae</td>\n",
       "      <td>ACTOR</td>\n",
       "      <td>Let's Eat</td>\n",
       "      <td>show</td>\n",
       "      <td>2021</td>\n",
       "      <td>['drama', 'comedy']</td>\n",
       "      <td>8.2</td>\n",
       "      <td>5.0</td>\n",
       "    </tr>\n",
       "    <tr>\n",
       "      <th>73832</th>\n",
       "      <td>Rudklao Amratisha</td>\n",
       "      <td>unknown</td>\n",
       "      <td>ACTOR</td>\n",
       "      <td>Let's Eat</td>\n",
       "      <td>show</td>\n",
       "      <td>2021</td>\n",
       "      <td>['drama', 'comedy']</td>\n",
       "      <td>8.2</td>\n",
       "      <td>5.0</td>\n",
       "    </tr>\n",
       "    <tr>\n",
       "      <th>73833</th>\n",
       "      <td>Jaturong Mokjok</td>\n",
       "      <td>unknown</td>\n",
       "      <td>ACTOR</td>\n",
       "      <td>Let's Eat</td>\n",
       "      <td>show</td>\n",
       "      <td>2021</td>\n",
       "      <td>['drama', 'comedy']</td>\n",
       "      <td>8.2</td>\n",
       "      <td>5.0</td>\n",
       "    </tr>\n",
       "    <tr>\n",
       "      <th>73834</th>\n",
       "      <td>Pisamai Wilaisak</td>\n",
       "      <td>unknown</td>\n",
       "      <td>ACTOR</td>\n",
       "      <td>Let's Eat</td>\n",
       "      <td>show</td>\n",
       "      <td>2021</td>\n",
       "      <td>['drama', 'comedy']</td>\n",
       "      <td>8.2</td>\n",
       "      <td>5.0</td>\n",
       "    </tr>\n",
       "    <tr>\n",
       "      <th>73835</th>\n",
       "      <td>Sarawut Wichiensarn</td>\n",
       "      <td>unknown</td>\n",
       "      <td>DIRECTOR</td>\n",
       "      <td>Let's Eat</td>\n",
       "      <td>show</td>\n",
       "      <td>2021</td>\n",
       "      <td>['drama', 'comedy']</td>\n",
       "      <td>8.2</td>\n",
       "      <td>5.0</td>\n",
       "    </tr>\n",
       "  </tbody>\n",
       "</table>\n",
       "<p>13604 rows × 9 columns</p>\n",
       "</div>"
      ],
      "text/plain": [
       "                      name             character      role  \\\n",
       "163         Graham Chapman               Various     ACTOR   \n",
       "164          Michael Palin  Various / \"It's\" man     ACTOR   \n",
       "165            Terry Jones               Various     ACTOR   \n",
       "166              Eric Idle               Various     ACTOR   \n",
       "167          Terry Gilliam               Various     ACTOR   \n",
       "...                    ...                   ...       ...   \n",
       "73831     Maneerat Kam-Uan                    Ae     ACTOR   \n",
       "73832    Rudklao Amratisha               unknown     ACTOR   \n",
       "73833      Jaturong Mokjok               unknown     ACTOR   \n",
       "73834     Pisamai Wilaisak               unknown     ACTOR   \n",
       "73835  Sarawut Wichiensarn               unknown  DIRECTOR   \n",
       "\n",
       "                              title  type  release_year  \\\n",
       "163    Monty Python's Flying Circus  show          1969   \n",
       "164    Monty Python's Flying Circus  show          1969   \n",
       "165    Monty Python's Flying Circus  show          1969   \n",
       "166    Monty Python's Flying Circus  show          1969   \n",
       "167    Monty Python's Flying Circus  show          1969   \n",
       "...                             ...   ...           ...   \n",
       "73831                     Let's Eat  show          2021   \n",
       "73832                     Let's Eat  show          2021   \n",
       "73833                     Let's Eat  show          2021   \n",
       "73834                     Let's Eat  show          2021   \n",
       "73835                     Let's Eat  show          2021   \n",
       "\n",
       "                       genres  imdb_score  imdb_votes  \n",
       "163    ['comedy', 'european']         8.8     73424.0  \n",
       "164    ['comedy', 'european']         8.8     73424.0  \n",
       "165    ['comedy', 'european']         8.8     73424.0  \n",
       "166    ['comedy', 'european']         8.8     73424.0  \n",
       "167    ['comedy', 'european']         8.8     73424.0  \n",
       "...                       ...         ...         ...  \n",
       "73831     ['drama', 'comedy']         8.2         5.0  \n",
       "73832     ['drama', 'comedy']         8.2         5.0  \n",
       "73833     ['drama', 'comedy']         8.2         5.0  \n",
       "73834     ['drama', 'comedy']         8.2         5.0  \n",
       "73835     ['drama', 'comedy']         8.2         5.0  \n",
       "\n",
       "[13604 rows x 9 columns]"
      ]
     },
     "metadata": {},
     "output_type": "display_data"
    }
   ],
   "source": [
    "# repeat conditional indexing so df has only shows (movies are removed as result)\n",
    "df_99_show = df[df['type'] == 'show']\n",
    "display(df_99_show)"
   ]
  },
  {
   "cell_type": "markdown",
   "id": "9648040c",
   "metadata": {},
   "source": [
    "The scores that are to be grouped should be rounded. For instance, titles with scores like 7.8, 8.1, and 8.3 will all be placed in the same bucket with a score of 8."
   ]
  },
  {
   "cell_type": "code",
   "execution_count": 21,
   "id": "54bbd5c0",
   "metadata": {
    "trusted": false
   },
   "outputs": [
    {
     "data": {
      "text/plain": [
       "73854    4.0\n",
       "73855    4.0\n",
       "73856    4.0\n",
       "73857    4.0\n",
       "73858    4.0\n",
       "Name: imdb_score, dtype: float64"
      ]
     },
     "execution_count": 21,
     "metadata": {},
     "output_type": "execute_result"
    }
   ],
   "source": [
    "# rounding column with scores\n",
    "df['imdb_score'] = df['imdb_score'].round()\n",
    "#checking the outcome with tail()\n",
    "df['imdb_score'].tail()"
   ]
  },
  {
   "cell_type": "markdown",
   "id": "36dbd00a",
   "metadata": {},
   "source": [
    "It is now time to identify outliers based on the number of votes."
   ]
  },
  {
   "cell_type": "code",
   "execution_count": 22,
   "id": "b8b55e95",
   "metadata": {
    "trusted": false
   },
   "outputs": [
    {
     "data": {
      "text/html": [
       "<div>\n",
       "<style scoped>\n",
       "    .dataframe tbody tr th:only-of-type {\n",
       "        vertical-align: middle;\n",
       "    }\n",
       "\n",
       "    .dataframe tbody tr th {\n",
       "        vertical-align: top;\n",
       "    }\n",
       "\n",
       "    .dataframe thead th {\n",
       "        text-align: right;\n",
       "    }\n",
       "</style>\n",
       "<table border=\"1\" class=\"dataframe\">\n",
       "  <thead>\n",
       "    <tr style=\"text-align: right;\">\n",
       "      <th></th>\n",
       "      <th>name</th>\n",
       "      <th>character</th>\n",
       "      <th>role</th>\n",
       "      <th>title</th>\n",
       "      <th>type</th>\n",
       "      <th>release_year</th>\n",
       "      <th>genres</th>\n",
       "      <th>imdb_votes</th>\n",
       "    </tr>\n",
       "    <tr>\n",
       "      <th>imdb_score</th>\n",
       "      <th></th>\n",
       "      <th></th>\n",
       "      <th></th>\n",
       "      <th></th>\n",
       "      <th></th>\n",
       "      <th></th>\n",
       "      <th></th>\n",
       "      <th></th>\n",
       "    </tr>\n",
       "  </thead>\n",
       "  <tbody>\n",
       "    <tr>\n",
       "      <th>2.0</th>\n",
       "      <td>227</td>\n",
       "      <td>227</td>\n",
       "      <td>227</td>\n",
       "      <td>227</td>\n",
       "      <td>227</td>\n",
       "      <td>227</td>\n",
       "      <td>227</td>\n",
       "      <td>227</td>\n",
       "    </tr>\n",
       "    <tr>\n",
       "      <th>3.0</th>\n",
       "      <td>562</td>\n",
       "      <td>562</td>\n",
       "      <td>562</td>\n",
       "      <td>562</td>\n",
       "      <td>562</td>\n",
       "      <td>562</td>\n",
       "      <td>562</td>\n",
       "      <td>562</td>\n",
       "    </tr>\n",
       "    <tr>\n",
       "      <th>4.0</th>\n",
       "      <td>3301</td>\n",
       "      <td>3301</td>\n",
       "      <td>3301</td>\n",
       "      <td>3301</td>\n",
       "      <td>3301</td>\n",
       "      <td>3301</td>\n",
       "      <td>3301</td>\n",
       "      <td>3301</td>\n",
       "    </tr>\n",
       "    <tr>\n",
       "      <th>5.0</th>\n",
       "      <td>9096</td>\n",
       "      <td>9096</td>\n",
       "      <td>9096</td>\n",
       "      <td>9096</td>\n",
       "      <td>9096</td>\n",
       "      <td>9096</td>\n",
       "      <td>9096</td>\n",
       "      <td>9096</td>\n",
       "    </tr>\n",
       "    <tr>\n",
       "      <th>6.0</th>\n",
       "      <td>24046</td>\n",
       "      <td>24046</td>\n",
       "      <td>24046</td>\n",
       "      <td>24046</td>\n",
       "      <td>24046</td>\n",
       "      <td>24046</td>\n",
       "      <td>24046</td>\n",
       "      <td>24046</td>\n",
       "    </tr>\n",
       "    <tr>\n",
       "      <th>7.0</th>\n",
       "      <td>22647</td>\n",
       "      <td>22647</td>\n",
       "      <td>22647</td>\n",
       "      <td>22647</td>\n",
       "      <td>22647</td>\n",
       "      <td>22647</td>\n",
       "      <td>22647</td>\n",
       "      <td>22647</td>\n",
       "    </tr>\n",
       "    <tr>\n",
       "      <th>8.0</th>\n",
       "      <td>12971</td>\n",
       "      <td>12971</td>\n",
       "      <td>12971</td>\n",
       "      <td>12971</td>\n",
       "      <td>12971</td>\n",
       "      <td>12971</td>\n",
       "      <td>12971</td>\n",
       "      <td>12971</td>\n",
       "    </tr>\n",
       "    <tr>\n",
       "      <th>9.0</th>\n",
       "      <td>1001</td>\n",
       "      <td>1001</td>\n",
       "      <td>1001</td>\n",
       "      <td>1001</td>\n",
       "      <td>1001</td>\n",
       "      <td>1001</td>\n",
       "      <td>1001</td>\n",
       "      <td>1001</td>\n",
       "    </tr>\n",
       "    <tr>\n",
       "      <th>10.0</th>\n",
       "      <td>8</td>\n",
       "      <td>8</td>\n",
       "      <td>8</td>\n",
       "      <td>8</td>\n",
       "      <td>8</td>\n",
       "      <td>8</td>\n",
       "      <td>8</td>\n",
       "      <td>8</td>\n",
       "    </tr>\n",
       "  </tbody>\n",
       "</table>\n",
       "</div>"
      ],
      "text/plain": [
       "             name  character   role  title   type  release_year  genres  \\\n",
       "imdb_score                                                                \n",
       "2.0           227        227    227    227    227           227     227   \n",
       "3.0           562        562    562    562    562           562     562   \n",
       "4.0          3301       3301   3301   3301   3301          3301    3301   \n",
       "5.0          9096       9096   9096   9096   9096          9096    9096   \n",
       "6.0         24046      24046  24046  24046  24046         24046   24046   \n",
       "7.0         22647      22647  22647  22647  22647         22647   22647   \n",
       "8.0         12971      12971  12971  12971  12971         12971   12971   \n",
       "9.0          1001       1001   1001   1001   1001          1001    1001   \n",
       "10.0            8          8      8      8      8             8       8   \n",
       "\n",
       "            imdb_votes  \n",
       "imdb_score              \n",
       "2.0                227  \n",
       "3.0                562  \n",
       "4.0               3301  \n",
       "5.0               9096  \n",
       "6.0              24046  \n",
       "7.0              22647  \n",
       "8.0              12971  \n",
       "9.0               1001  \n",
       "10.0                 8  "
      ]
     },
     "execution_count": 22,
     "metadata": {},
     "output_type": "execute_result"
    }
   ],
   "source": [
    "# Use groupby() for scores and count all unique values in each group, print the result\n",
    "df.groupby('imdb_score').count()"
   ]
  },
  {
   "cell_type": "markdown",
   "id": "1ba6daae",
   "metadata": {},
   "source": [
    "Based on the aggregation performed, it is evident that scores 2 (24 voted shows), 3 (27 voted shows), and 10 (only 8 voted shows) are outliers. There isn't enough data for these scores for the average number of votes to be meaningful."
   ]
  },
  {
   "cell_type": "markdown",
   "id": "bd468c46",
   "metadata": {},
   "source": [
    "To obtain the mean numbers of votes for the selected scores (we identified a range of 4-9 as acceptable), use conditional filtering and grouping."
   ]
  },
  {
   "cell_type": "code",
   "execution_count": 23,
   "id": "d1867e0e",
   "metadata": {
    "trusted": false
   },
   "outputs": [
    {
     "data": {
      "text/html": [
       "<div>\n",
       "<style scoped>\n",
       "    .dataframe tbody tr th:only-of-type {\n",
       "        vertical-align: middle;\n",
       "    }\n",
       "\n",
       "    .dataframe tbody tr th {\n",
       "        vertical-align: top;\n",
       "    }\n",
       "\n",
       "    .dataframe thead th {\n",
       "        text-align: right;\n",
       "    }\n",
       "</style>\n",
       "<table border=\"1\" class=\"dataframe\">\n",
       "  <thead>\n",
       "    <tr style=\"text-align: right;\">\n",
       "      <th></th>\n",
       "      <th>imdb_score</th>\n",
       "      <th>imdb_votes</th>\n",
       "    </tr>\n",
       "  </thead>\n",
       "  <tbody>\n",
       "    <tr>\n",
       "      <th>0</th>\n",
       "      <td>2.0</td>\n",
       "      <td>5047.303965</td>\n",
       "    </tr>\n",
       "    <tr>\n",
       "      <th>1</th>\n",
       "      <td>3.0</td>\n",
       "      <td>7770.629893</td>\n",
       "    </tr>\n",
       "    <tr>\n",
       "      <th>2</th>\n",
       "      <td>4.0</td>\n",
       "      <td>8943.007876</td>\n",
       "    </tr>\n",
       "    <tr>\n",
       "      <th>3</th>\n",
       "      <td>5.0</td>\n",
       "      <td>14421.066403</td>\n",
       "    </tr>\n",
       "    <tr>\n",
       "      <th>4</th>\n",
       "      <td>6.0</td>\n",
       "      <td>29552.217666</td>\n",
       "    </tr>\n",
       "    <tr>\n",
       "      <th>5</th>\n",
       "      <td>7.0</td>\n",
       "      <td>54061.490793</td>\n",
       "    </tr>\n",
       "    <tr>\n",
       "      <th>6</th>\n",
       "      <td>8.0</td>\n",
       "      <td>162813.093748</td>\n",
       "    </tr>\n",
       "    <tr>\n",
       "      <th>7</th>\n",
       "      <td>9.0</td>\n",
       "      <td>577107.221778</td>\n",
       "    </tr>\n",
       "  </tbody>\n",
       "</table>\n",
       "</div>"
      ],
      "text/plain": [
       "   imdb_score     imdb_votes\n",
       "0         2.0    5047.303965\n",
       "1         3.0    7770.629893\n",
       "2         4.0    8943.007876\n",
       "3         5.0   14421.066403\n",
       "4         6.0   29552.217666\n",
       "5         7.0   54061.490793\n",
       "6         8.0  162813.093748\n",
       "7         9.0  577107.221778"
      ]
     },
     "execution_count": 23,
     "metadata": {},
     "output_type": "execute_result"
    }
   ],
   "source": [
    "# filter dataframe using two conditions (scores to be in the range 4-9)\n",
    "new_df = df[df['imdb_score'] > 3]\n",
    "new_df = df[df['imdb_score'] < 10]\n",
    "# group scores and corresponding average number of votes, reset index and print the result\n",
    "new_df.groupby('imdb_score')['imdb_votes'].mean().reset_index()"
   ]
  },
  {
   "cell_type": "markdown",
   "id": "96a66d14",
   "metadata": {},
   "source": [
    "Now for the final step! Round the column with the averages, rename both columns, and print the dataframe in descending order."
   ]
  },
  {
   "cell_type": "code",
   "execution_count": 24,
   "id": "5999051b",
   "metadata": {
    "scrolled": true,
    "trusted": false
   },
   "outputs": [
    {
     "data": {
      "text/html": [
       "<div>\n",
       "<style scoped>\n",
       "    .dataframe tbody tr th:only-of-type {\n",
       "        vertical-align: middle;\n",
       "    }\n",
       "\n",
       "    .dataframe tbody tr th {\n",
       "        vertical-align: top;\n",
       "    }\n",
       "\n",
       "    .dataframe thead th {\n",
       "        text-align: right;\n",
       "    }\n",
       "</style>\n",
       "<table border=\"1\" class=\"dataframe\">\n",
       "  <thead>\n",
       "    <tr style=\"text-align: right;\">\n",
       "      <th></th>\n",
       "      <th>name</th>\n",
       "      <th>character</th>\n",
       "      <th>role</th>\n",
       "      <th>title</th>\n",
       "      <th>type</th>\n",
       "      <th>release_year</th>\n",
       "      <th>genres</th>\n",
       "      <th>score</th>\n",
       "      <th>average</th>\n",
       "    </tr>\n",
       "  </thead>\n",
       "  <tbody>\n",
       "    <tr>\n",
       "      <th>0</th>\n",
       "      <td>Robert De Niro</td>\n",
       "      <td>Travis Bickle</td>\n",
       "      <td>ACTOR</td>\n",
       "      <td>Taxi Driver</td>\n",
       "      <td>MOVIE</td>\n",
       "      <td>1976</td>\n",
       "      <td>['drama', 'crime']</td>\n",
       "      <td>8.0</td>\n",
       "      <td>808582.0</td>\n",
       "    </tr>\n",
       "    <tr>\n",
       "      <th>1</th>\n",
       "      <td>Jodie Foster</td>\n",
       "      <td>Iris Steensma</td>\n",
       "      <td>ACTOR</td>\n",
       "      <td>Taxi Driver</td>\n",
       "      <td>MOVIE</td>\n",
       "      <td>1976</td>\n",
       "      <td>['drama', 'crime']</td>\n",
       "      <td>8.0</td>\n",
       "      <td>808582.0</td>\n",
       "    </tr>\n",
       "    <tr>\n",
       "      <th>2</th>\n",
       "      <td>Albert Brooks</td>\n",
       "      <td>Tom</td>\n",
       "      <td>ACTOR</td>\n",
       "      <td>Taxi Driver</td>\n",
       "      <td>MOVIE</td>\n",
       "      <td>1976</td>\n",
       "      <td>['drama', 'crime']</td>\n",
       "      <td>8.0</td>\n",
       "      <td>808582.0</td>\n",
       "    </tr>\n",
       "    <tr>\n",
       "      <th>3</th>\n",
       "      <td>Harvey Keitel</td>\n",
       "      <td>Matthew 'Sport' Higgins</td>\n",
       "      <td>ACTOR</td>\n",
       "      <td>Taxi Driver</td>\n",
       "      <td>MOVIE</td>\n",
       "      <td>1976</td>\n",
       "      <td>['drama', 'crime']</td>\n",
       "      <td>8.0</td>\n",
       "      <td>808582.0</td>\n",
       "    </tr>\n",
       "    <tr>\n",
       "      <th>4</th>\n",
       "      <td>Cybill Shepherd</td>\n",
       "      <td>Betsy</td>\n",
       "      <td>ACTOR</td>\n",
       "      <td>Taxi Driver</td>\n",
       "      <td>MOVIE</td>\n",
       "      <td>1976</td>\n",
       "      <td>['drama', 'crime']</td>\n",
       "      <td>8.0</td>\n",
       "      <td>808582.0</td>\n",
       "    </tr>\n",
       "    <tr>\n",
       "      <th>...</th>\n",
       "      <td>...</td>\n",
       "      <td>...</td>\n",
       "      <td>...</td>\n",
       "      <td>...</td>\n",
       "      <td>...</td>\n",
       "      <td>...</td>\n",
       "      <td>...</td>\n",
       "      <td>...</td>\n",
       "      <td>...</td>\n",
       "    </tr>\n",
       "    <tr>\n",
       "      <th>73854</th>\n",
       "      <td>A??da Morales</td>\n",
       "      <td>Maritza</td>\n",
       "      <td>ACTOR</td>\n",
       "      <td>Lokillo</td>\n",
       "      <td>the movie</td>\n",
       "      <td>2021</td>\n",
       "      <td>['comedy']</td>\n",
       "      <td>4.0</td>\n",
       "      <td>68.0</td>\n",
       "    </tr>\n",
       "    <tr>\n",
       "      <th>73855</th>\n",
       "      <td>Adelaida Buscato</td>\n",
       "      <td>Mar??a Paz</td>\n",
       "      <td>ACTOR</td>\n",
       "      <td>Lokillo</td>\n",
       "      <td>the movie</td>\n",
       "      <td>2021</td>\n",
       "      <td>['comedy']</td>\n",
       "      <td>4.0</td>\n",
       "      <td>68.0</td>\n",
       "    </tr>\n",
       "    <tr>\n",
       "      <th>73856</th>\n",
       "      <td>Luz Stella Luengas</td>\n",
       "      <td>Karen Bayona</td>\n",
       "      <td>ACTOR</td>\n",
       "      <td>Lokillo</td>\n",
       "      <td>the movie</td>\n",
       "      <td>2021</td>\n",
       "      <td>['comedy']</td>\n",
       "      <td>4.0</td>\n",
       "      <td>68.0</td>\n",
       "    </tr>\n",
       "    <tr>\n",
       "      <th>73857</th>\n",
       "      <td>In??s Prieto</td>\n",
       "      <td>Fanny</td>\n",
       "      <td>ACTOR</td>\n",
       "      <td>Lokillo</td>\n",
       "      <td>the movie</td>\n",
       "      <td>2021</td>\n",
       "      <td>['comedy']</td>\n",
       "      <td>4.0</td>\n",
       "      <td>68.0</td>\n",
       "    </tr>\n",
       "    <tr>\n",
       "      <th>73858</th>\n",
       "      <td>Julian Gaviria</td>\n",
       "      <td>unknown</td>\n",
       "      <td>DIRECTOR</td>\n",
       "      <td>Lokillo</td>\n",
       "      <td>the movie</td>\n",
       "      <td>2021</td>\n",
       "      <td>['comedy']</td>\n",
       "      <td>4.0</td>\n",
       "      <td>68.0</td>\n",
       "    </tr>\n",
       "  </tbody>\n",
       "</table>\n",
       "<p>73851 rows × 9 columns</p>\n",
       "</div>"
      ],
      "text/plain": [
       "                     name                character      role        title  \\\n",
       "0          Robert De Niro            Travis Bickle     ACTOR  Taxi Driver   \n",
       "1            Jodie Foster            Iris Steensma     ACTOR  Taxi Driver   \n",
       "2           Albert Brooks                      Tom     ACTOR  Taxi Driver   \n",
       "3           Harvey Keitel  Matthew 'Sport' Higgins     ACTOR  Taxi Driver   \n",
       "4         Cybill Shepherd                    Betsy     ACTOR  Taxi Driver   \n",
       "...                   ...                      ...       ...          ...   \n",
       "73854       A??da Morales                  Maritza     ACTOR      Lokillo   \n",
       "73855    Adelaida Buscato               Mar??a Paz     ACTOR      Lokillo   \n",
       "73856  Luz Stella Luengas             Karen Bayona     ACTOR      Lokillo   \n",
       "73857        In??s Prieto                    Fanny     ACTOR      Lokillo   \n",
       "73858      Julian Gaviria                  unknown  DIRECTOR      Lokillo   \n",
       "\n",
       "            type  release_year              genres  score   average  \n",
       "0          MOVIE          1976  ['drama', 'crime']    8.0  808582.0  \n",
       "1          MOVIE          1976  ['drama', 'crime']    8.0  808582.0  \n",
       "2          MOVIE          1976  ['drama', 'crime']    8.0  808582.0  \n",
       "3          MOVIE          1976  ['drama', 'crime']    8.0  808582.0  \n",
       "4          MOVIE          1976  ['drama', 'crime']    8.0  808582.0  \n",
       "...          ...           ...                 ...    ...       ...  \n",
       "73854  the movie          2021          ['comedy']    4.0      68.0  \n",
       "73855  the movie          2021          ['comedy']    4.0      68.0  \n",
       "73856  the movie          2021          ['comedy']    4.0      68.0  \n",
       "73857  the movie          2021          ['comedy']    4.0      68.0  \n",
       "73858  the movie          2021          ['comedy']    4.0      68.0  \n",
       "\n",
       "[73851 rows x 9 columns]"
      ]
     },
     "metadata": {},
     "output_type": "display_data"
    }
   ],
   "source": [
    "# round column with averages\n",
    "df['imdb_score'] = df['imdb_score'].round()\n",
    "# rename columns\n",
    "new_df = new_df.rename(columns={'imdb_score': 'score', 'imdb_votes': 'average'})\n",
    "# print dataframe in descending order\n",
    "new_df.sort_values(by='average',ascending=False)\n",
    "display(new_df)"
   ]
  },
  {
   "cell_type": "markdown",
   "id": "af07386d",
   "metadata": {},
   "source": [
    "The assumption macthes the analysis: the shows with the top 3 scores have the most amounts of votes."
   ]
  },
  {
   "cell_type": "markdown",
   "id": "84e29a37",
   "metadata": {},
   "source": [
    "## Conclusion <a id='hypotheses'></a>"
   ]
  },
  {
   "cell_type": "markdown",
   "id": "984766a3",
   "metadata": {},
   "source": [
    "The research done confirms that highly-rated shows released during the \"Golden Age\" of television also have the most votes. While shows with score 4 have more votes than ones with scores 5 and 6, the top three (scores 7-9) have the largest number. The data studied represents around 94% of the original set, so we can be confident in our findings. "
   ]
  }
 ],
 "metadata": {
  "ExecuteTimeLog": [
   {
    "duration": 169,
    "start_time": "2024-11-22T00:01:25.469Z"
   },
   {
    "duration": 297,
    "start_time": "2024-11-22T00:01:31.255Z"
   },
   {
    "duration": 148,
    "start_time": "2024-11-22T00:01:34.286Z"
   },
   {
    "duration": 15,
    "start_time": "2024-11-22T00:01:36.977Z"
   },
   {
    "duration": 8,
    "start_time": "2024-11-22T00:45:16.279Z"
   },
   {
    "duration": 26,
    "start_time": "2024-11-22T00:46:45.197Z"
   },
   {
    "duration": 4,
    "start_time": "2024-11-22T01:13:42.428Z"
   },
   {
    "duration": 6,
    "start_time": "2024-11-22T01:20:57.053Z"
   },
   {
    "duration": 4,
    "start_time": "2024-11-22T01:21:12.870Z"
   },
   {
    "duration": 5,
    "start_time": "2024-11-22T01:22:38.142Z"
   },
   {
    "duration": 4,
    "start_time": "2024-11-22T01:23:47.528Z"
   },
   {
    "duration": 5,
    "start_time": "2024-11-22T01:24:57.855Z"
   },
   {
    "duration": 8,
    "start_time": "2024-11-22T01:25:05.760Z"
   },
   {
    "duration": 9,
    "start_time": "2024-11-22T01:25:32.841Z"
   },
   {
    "duration": 85,
    "start_time": "2024-11-22T01:27:17.202Z"
   },
   {
    "duration": 50,
    "start_time": "2024-11-22T01:27:43.846Z"
   },
   {
    "duration": 46,
    "start_time": "2024-11-22T01:27:59.720Z"
   },
   {
    "duration": 58,
    "start_time": "2024-11-22T03:57:39.089Z"
   },
   {
    "duration": 44,
    "start_time": "2024-11-22T03:57:50.190Z"
   },
   {
    "duration": 5,
    "start_time": "2024-11-22T03:59:54.488Z"
   },
   {
    "duration": 3,
    "start_time": "2024-11-22T04:00:10.854Z"
   },
   {
    "duration": 7,
    "start_time": "2024-11-22T04:00:26.769Z"
   },
   {
    "duration": 18,
    "start_time": "2024-11-22T04:13:36.524Z"
   },
   {
    "duration": 45,
    "start_time": "2024-11-22T04:15:08.000Z"
   },
   {
    "duration": 19,
    "start_time": "2024-11-22T04:15:31.628Z"
   },
   {
    "duration": 32,
    "start_time": "2024-11-22T04:18:13.264Z"
   },
   {
    "duration": 18,
    "start_time": "2024-11-22T04:18:17.319Z"
   },
   {
    "duration": 29,
    "start_time": "2024-11-22T04:18:23.388Z"
   },
   {
    "duration": 21,
    "start_time": "2024-11-22T04:18:32.898Z"
   },
   {
    "duration": 4,
    "start_time": "2024-11-22T04:19:47.935Z"
   },
   {
    "duration": 5,
    "start_time": "2024-11-22T04:20:17.000Z"
   },
   {
    "duration": 18,
    "start_time": "2024-11-22T04:20:25.666Z"
   },
   {
    "duration": 31,
    "start_time": "2024-11-22T04:20:59.625Z"
   },
   {
    "duration": 19,
    "start_time": "2024-11-22T04:23:25.406Z"
   },
   {
    "duration": 35,
    "start_time": "2024-11-22T04:23:32.918Z"
   },
   {
    "duration": 22,
    "start_time": "2024-11-22T04:23:39.938Z"
   },
   {
    "duration": 20,
    "start_time": "2024-11-22T04:23:52.689Z"
   },
   {
    "duration": 23,
    "start_time": "2024-11-22T04:25:24.291Z"
   },
   {
    "duration": 22,
    "start_time": "2024-11-22T04:25:28.745Z"
   },
   {
    "duration": 18,
    "start_time": "2024-11-22T04:25:31.636Z"
   },
   {
    "duration": 21,
    "start_time": "2024-11-22T04:26:02.189Z"
   },
   {
    "duration": 21,
    "start_time": "2024-11-22T04:26:04.815Z"
   },
   {
    "duration": 287,
    "start_time": "2024-11-22T04:34:47.789Z"
   },
   {
    "duration": 120,
    "start_time": "2024-11-22T04:34:48.078Z"
   },
   {
    "duration": 18,
    "start_time": "2024-11-22T04:34:48.200Z"
   },
   {
    "duration": 24,
    "start_time": "2024-11-22T04:34:48.219Z"
   },
   {
    "duration": 3,
    "start_time": "2024-11-22T04:34:48.245Z"
   },
   {
    "duration": 5,
    "start_time": "2024-11-22T04:34:48.250Z"
   },
   {
    "duration": 3,
    "start_time": "2024-11-22T04:34:48.257Z"
   },
   {
    "duration": 18,
    "start_time": "2024-11-22T04:34:48.262Z"
   },
   {
    "duration": 54,
    "start_time": "2024-11-22T04:34:48.281Z"
   },
   {
    "duration": 17,
    "start_time": "2024-11-22T04:34:48.336Z"
   },
   {
    "duration": 2,
    "start_time": "2024-11-22T04:34:48.355Z"
   },
   {
    "duration": 3,
    "start_time": "2024-11-22T04:34:48.358Z"
   },
   {
    "duration": 4,
    "start_time": "2024-11-22T04:34:48.363Z"
   },
   {
    "duration": 2,
    "start_time": "2024-11-22T04:34:48.369Z"
   },
   {
    "duration": 2,
    "start_time": "2024-11-22T04:34:48.373Z"
   },
   {
    "duration": 2,
    "start_time": "2024-11-22T04:34:48.411Z"
   },
   {
    "duration": 3,
    "start_time": "2024-11-22T04:34:48.414Z"
   },
   {
    "duration": 2,
    "start_time": "2024-11-22T04:34:48.419Z"
   },
   {
    "duration": 2,
    "start_time": "2024-11-22T04:34:48.423Z"
   },
   {
    "duration": 3,
    "start_time": "2024-11-22T04:34:48.427Z"
   },
   {
    "duration": 3,
    "start_time": "2024-11-22T04:34:48.431Z"
   },
   {
    "duration": 3,
    "start_time": "2024-11-22T04:34:48.435Z"
   },
   {
    "duration": 2,
    "start_time": "2024-11-22T04:34:48.441Z"
   },
   {
    "duration": 3,
    "start_time": "2024-11-22T04:34:48.444Z"
   },
   {
    "duration": 286,
    "start_time": "2024-11-22T04:36:18.375Z"
   },
   {
    "duration": 123,
    "start_time": "2024-11-22T04:36:18.664Z"
   },
   {
    "duration": 14,
    "start_time": "2024-11-22T04:36:18.788Z"
   },
   {
    "duration": 28,
    "start_time": "2024-11-22T04:36:18.803Z"
   },
   {
    "duration": 3,
    "start_time": "2024-11-22T04:36:18.834Z"
   },
   {
    "duration": 5,
    "start_time": "2024-11-22T04:36:18.839Z"
   },
   {
    "duration": 4,
    "start_time": "2024-11-22T04:36:18.845Z"
   },
   {
    "duration": 18,
    "start_time": "2024-11-22T04:36:18.851Z"
   },
   {
    "duration": 54,
    "start_time": "2024-11-22T04:36:18.870Z"
   },
   {
    "duration": 18,
    "start_time": "2024-11-22T04:36:18.925Z"
   },
   {
    "duration": 2,
    "start_time": "2024-11-22T04:36:18.945Z"
   },
   {
    "duration": 3,
    "start_time": "2024-11-22T04:36:18.948Z"
   },
   {
    "duration": 3,
    "start_time": "2024-11-22T04:36:18.952Z"
   },
   {
    "duration": 2,
    "start_time": "2024-11-22T04:36:18.958Z"
   },
   {
    "duration": 3,
    "start_time": "2024-11-22T04:36:18.961Z"
   },
   {
    "duration": 3,
    "start_time": "2024-11-22T04:36:18.966Z"
   },
   {
    "duration": 3,
    "start_time": "2024-11-22T04:36:18.970Z"
   },
   {
    "duration": 39,
    "start_time": "2024-11-22T04:36:18.974Z"
   },
   {
    "duration": 3,
    "start_time": "2024-11-22T04:36:19.014Z"
   },
   {
    "duration": 3,
    "start_time": "2024-11-22T04:36:19.018Z"
   },
   {
    "duration": 2,
    "start_time": "2024-11-22T04:36:19.023Z"
   },
   {
    "duration": 2,
    "start_time": "2024-11-22T04:36:19.027Z"
   },
   {
    "duration": 2,
    "start_time": "2024-11-22T04:36:19.031Z"
   },
   {
    "duration": 2,
    "start_time": "2024-11-22T04:36:19.035Z"
   },
   {
    "duration": 41,
    "start_time": "2024-11-22T04:47:09.884Z"
   },
   {
    "duration": 41,
    "start_time": "2024-11-22T04:47:16.920Z"
   },
   {
    "duration": 9,
    "start_time": "2024-11-22T05:01:40.349Z"
   },
   {
    "duration": 39,
    "start_time": "2024-11-22T05:02:53.167Z"
   },
   {
    "duration": 39,
    "start_time": "2024-11-22T05:03:25.893Z"
   },
   {
    "duration": 41,
    "start_time": "2024-11-22T05:05:43.364Z"
   },
   {
    "duration": 39,
    "start_time": "2024-11-22T05:11:40.843Z"
   },
   {
    "duration": 642,
    "start_time": "2024-11-22T05:13:14.259Z"
   },
   {
    "duration": 43,
    "start_time": "2024-11-22T05:23:50.302Z"
   },
   {
    "duration": 40,
    "start_time": "2024-11-22T05:33:17.956Z"
   },
   {
    "duration": 38,
    "start_time": "2024-11-22T05:37:47.880Z"
   },
   {
    "duration": 49,
    "start_time": "2024-11-22T05:37:59.255Z"
   },
   {
    "duration": 43,
    "start_time": "2024-11-22T05:44:51.305Z"
   },
   {
    "duration": 48,
    "start_time": "2024-11-22T05:46:51.210Z"
   },
   {
    "duration": 191,
    "start_time": "2024-11-22T21:55:17.388Z"
   },
   {
    "duration": 12,
    "start_time": "2024-11-22T21:55:35.128Z"
   },
   {
    "duration": 358,
    "start_time": "2024-11-22T21:55:42.913Z"
   },
   {
    "duration": 162,
    "start_time": "2024-11-22T21:55:43.273Z"
   },
   {
    "duration": 13,
    "start_time": "2024-11-22T21:55:43.437Z"
   },
   {
    "duration": 24,
    "start_time": "2024-11-22T21:55:43.452Z"
   },
   {
    "duration": 8,
    "start_time": "2024-11-22T21:55:43.487Z"
   },
   {
    "duration": 11,
    "start_time": "2024-11-22T21:55:43.497Z"
   },
   {
    "duration": 4,
    "start_time": "2024-11-22T21:55:43.510Z"
   },
   {
    "duration": 26,
    "start_time": "2024-11-22T21:55:43.516Z"
   },
   {
    "duration": 43,
    "start_time": "2024-11-22T21:55:43.543Z"
   },
   {
    "duration": 27,
    "start_time": "2024-11-22T21:55:43.589Z"
   },
   {
    "duration": 47,
    "start_time": "2024-11-22T21:55:43.618Z"
   },
   {
    "duration": 79,
    "start_time": "2024-11-22T21:55:43.667Z"
   },
   {
    "duration": 3,
    "start_time": "2024-11-22T21:55:43.747Z"
   },
   {
    "duration": 2,
    "start_time": "2024-11-22T21:55:43.753Z"
   },
   {
    "duration": 1,
    "start_time": "2024-11-22T21:55:43.757Z"
   },
   {
    "duration": 27,
    "start_time": "2024-11-22T21:55:43.760Z"
   },
   {
    "duration": 4,
    "start_time": "2024-11-22T21:55:43.788Z"
   },
   {
    "duration": 10,
    "start_time": "2024-11-22T21:55:43.793Z"
   },
   {
    "duration": 2,
    "start_time": "2024-11-22T21:55:43.806Z"
   },
   {
    "duration": 3,
    "start_time": "2024-11-22T21:55:43.811Z"
   },
   {
    "duration": 4,
    "start_time": "2024-11-22T21:55:43.815Z"
   },
   {
    "duration": 3,
    "start_time": "2024-11-22T21:55:43.821Z"
   },
   {
    "duration": 2,
    "start_time": "2024-11-22T21:55:43.826Z"
   },
   {
    "duration": 2,
    "start_time": "2024-11-22T21:55:43.830Z"
   },
   {
    "duration": 56,
    "start_time": "2024-11-22T21:56:58.371Z"
   },
   {
    "duration": 40,
    "start_time": "2024-11-22T21:57:03.036Z"
   },
   {
    "duration": 53,
    "start_time": "2024-11-22T22:07:31.751Z"
   },
   {
    "duration": 57,
    "start_time": "2024-11-22T22:07:58.001Z"
   },
   {
    "duration": 13,
    "start_time": "2024-11-22T22:08:08.228Z"
   },
   {
    "duration": 54,
    "start_time": "2024-11-22T22:13:00.246Z"
   },
   {
    "duration": 7,
    "start_time": "2024-11-22T22:13:04.138Z"
   },
   {
    "duration": 7,
    "start_time": "2024-11-22T22:15:06.022Z"
   },
   {
    "duration": 499,
    "start_time": "2024-11-22T22:54:03.181Z"
   },
   {
    "duration": 5,
    "start_time": "2024-11-22T22:55:55.707Z"
   },
   {
    "duration": 5,
    "start_time": "2024-11-22T22:56:28.375Z"
   },
   {
    "duration": 3,
    "start_time": "2024-11-22T22:56:55.718Z"
   },
   {
    "duration": 5,
    "start_time": "2024-11-22T23:21:41.596Z"
   },
   {
    "duration": 4,
    "start_time": "2024-11-22T23:21:52.654Z"
   },
   {
    "duration": 4,
    "start_time": "2024-11-22T23:25:29.751Z"
   },
   {
    "duration": 5,
    "start_time": "2024-11-22T23:26:14.411Z"
   },
   {
    "duration": 16,
    "start_time": "2024-11-22T23:26:52.087Z"
   },
   {
    "duration": 266,
    "start_time": "2024-11-22T23:27:02.271Z"
   },
   {
    "duration": 116,
    "start_time": "2024-11-22T23:27:02.539Z"
   },
   {
    "duration": 16,
    "start_time": "2024-11-22T23:27:02.656Z"
   },
   {
    "duration": 33,
    "start_time": "2024-11-22T23:27:02.674Z"
   },
   {
    "duration": 3,
    "start_time": "2024-11-22T23:27:02.709Z"
   },
   {
    "duration": 6,
    "start_time": "2024-11-22T23:27:02.714Z"
   },
   {
    "duration": 5,
    "start_time": "2024-11-22T23:27:02.721Z"
   },
   {
    "duration": 19,
    "start_time": "2024-11-22T23:27:02.728Z"
   },
   {
    "duration": 50,
    "start_time": "2024-11-22T23:27:02.748Z"
   },
   {
    "duration": 17,
    "start_time": "2024-11-22T23:27:02.802Z"
   },
   {
    "duration": 41,
    "start_time": "2024-11-22T23:27:02.820Z"
   },
   {
    "duration": 68,
    "start_time": "2024-11-22T23:27:02.863Z"
   },
   {
    "duration": 58,
    "start_time": "2024-11-22T23:27:02.933Z"
   },
   {
    "duration": 8,
    "start_time": "2024-11-22T23:27:02.993Z"
   },
   {
    "duration": 5,
    "start_time": "2024-11-22T23:27:03.004Z"
   },
   {
    "duration": 16,
    "start_time": "2024-11-22T23:27:03.010Z"
   },
   {
    "duration": 2,
    "start_time": "2024-11-22T23:27:03.028Z"
   },
   {
    "duration": 2,
    "start_time": "2024-11-22T23:27:03.032Z"
   },
   {
    "duration": 2,
    "start_time": "2024-11-22T23:27:03.036Z"
   },
   {
    "duration": 2,
    "start_time": "2024-11-22T23:27:03.040Z"
   },
   {
    "duration": 2,
    "start_time": "2024-11-22T23:27:03.044Z"
   },
   {
    "duration": 2,
    "start_time": "2024-11-22T23:27:03.086Z"
   },
   {
    "duration": 2,
    "start_time": "2024-11-22T23:27:03.090Z"
   },
   {
    "duration": 2,
    "start_time": "2024-11-22T23:27:03.094Z"
   },
   {
    "duration": 85,
    "start_time": "2024-11-22T23:27:32.237Z"
   },
   {
    "duration": 3,
    "start_time": "2024-11-22T23:27:58.757Z"
   },
   {
    "duration": 15,
    "start_time": "2024-11-22T23:28:21.735Z"
   },
   {
    "duration": 2,
    "start_time": "2024-11-22T23:28:25.302Z"
   },
   {
    "duration": 101,
    "start_time": "2024-11-22T23:32:41.907Z"
   },
   {
    "duration": 3,
    "start_time": "2024-11-22T23:32:53.113Z"
   },
   {
    "duration": 4,
    "start_time": "2024-11-22T23:34:00.888Z"
   },
   {
    "duration": 3,
    "start_time": "2024-11-22T23:34:04.717Z"
   },
   {
    "duration": 3,
    "start_time": "2024-11-22T23:34:08.593Z"
   },
   {
    "duration": 4,
    "start_time": "2024-11-22T23:34:40.003Z"
   },
   {
    "duration": 5,
    "start_time": "2024-11-22T23:34:48.096Z"
   },
   {
    "duration": 3,
    "start_time": "2024-11-22T23:34:50.609Z"
   },
   {
    "duration": 296,
    "start_time": "2024-11-22T23:34:56.534Z"
   },
   {
    "duration": 115,
    "start_time": "2024-11-22T23:34:56.832Z"
   },
   {
    "duration": 14,
    "start_time": "2024-11-22T23:34:56.949Z"
   },
   {
    "duration": 41,
    "start_time": "2024-11-22T23:34:56.965Z"
   },
   {
    "duration": 5,
    "start_time": "2024-11-22T23:34:57.009Z"
   },
   {
    "duration": 5,
    "start_time": "2024-11-22T23:34:57.016Z"
   },
   {
    "duration": 4,
    "start_time": "2024-11-22T23:34:57.023Z"
   },
   {
    "duration": 19,
    "start_time": "2024-11-22T23:34:57.029Z"
   },
   {
    "duration": 51,
    "start_time": "2024-11-22T23:34:57.049Z"
   },
   {
    "duration": 19,
    "start_time": "2024-11-22T23:34:57.102Z"
   },
   {
    "duration": 39,
    "start_time": "2024-11-22T23:34:57.122Z"
   },
   {
    "duration": 67,
    "start_time": "2024-11-22T23:34:57.164Z"
   },
   {
    "duration": 55,
    "start_time": "2024-11-22T23:34:57.232Z"
   },
   {
    "duration": 7,
    "start_time": "2024-11-22T23:34:57.290Z"
   },
   {
    "duration": 5,
    "start_time": "2024-11-22T23:34:57.299Z"
   },
   {
    "duration": 4,
    "start_time": "2024-11-22T23:34:57.306Z"
   },
   {
    "duration": 2,
    "start_time": "2024-11-22T23:34:57.311Z"
   },
   {
    "duration": 3,
    "start_time": "2024-11-22T23:34:57.315Z"
   },
   {
    "duration": 2,
    "start_time": "2024-11-22T23:34:57.320Z"
   },
   {
    "duration": 2,
    "start_time": "2024-11-22T23:34:57.323Z"
   },
   {
    "duration": 2,
    "start_time": "2024-11-22T23:34:57.327Z"
   },
   {
    "duration": 2,
    "start_time": "2024-11-22T23:34:57.331Z"
   },
   {
    "duration": 2,
    "start_time": "2024-11-22T23:34:57.336Z"
   },
   {
    "duration": 3,
    "start_time": "2024-11-22T23:34:57.387Z"
   },
   {
    "duration": 4,
    "start_time": "2024-11-22T23:35:15.792Z"
   },
   {
    "duration": 5,
    "start_time": "2024-11-22T23:35:51.040Z"
   },
   {
    "duration": 4,
    "start_time": "2024-11-22T23:35:53.330Z"
   },
   {
    "duration": 8,
    "start_time": "2024-11-22T23:36:02.990Z"
   },
   {
    "duration": 4,
    "start_time": "2024-11-22T23:36:59.395Z"
   },
   {
    "duration": 5,
    "start_time": "2024-11-22T23:37:19.761Z"
   },
   {
    "duration": 4,
    "start_time": "2024-11-22T23:37:32.139Z"
   },
   {
    "duration": 87,
    "start_time": "2024-11-22T23:37:44.180Z"
   },
   {
    "duration": 5,
    "start_time": "2024-11-22T23:38:10.802Z"
   },
   {
    "duration": 14,
    "start_time": "2024-11-22T23:53:13.472Z"
   },
   {
    "duration": 5,
    "start_time": "2024-11-22T23:53:16.734Z"
   },
   {
    "duration": 5,
    "start_time": "2024-11-22T23:59:10.670Z"
   },
   {
    "duration": 5,
    "start_time": "2024-11-22T23:59:16.431Z"
   },
   {
    "duration": 290,
    "start_time": "2024-11-22T23:59:22.267Z"
   },
   {
    "duration": 122,
    "start_time": "2024-11-22T23:59:22.559Z"
   },
   {
    "duration": 15,
    "start_time": "2024-11-22T23:59:22.683Z"
   },
   {
    "duration": 32,
    "start_time": "2024-11-22T23:59:22.700Z"
   },
   {
    "duration": 4,
    "start_time": "2024-11-22T23:59:22.735Z"
   },
   {
    "duration": 5,
    "start_time": "2024-11-22T23:59:22.741Z"
   },
   {
    "duration": 4,
    "start_time": "2024-11-22T23:59:22.748Z"
   },
   {
    "duration": 54,
    "start_time": "2024-11-22T23:59:22.754Z"
   },
   {
    "duration": 26,
    "start_time": "2024-11-22T23:59:22.809Z"
   },
   {
    "duration": 21,
    "start_time": "2024-11-22T23:59:22.837Z"
   },
   {
    "duration": 61,
    "start_time": "2024-11-22T23:59:22.887Z"
   },
   {
    "duration": 61,
    "start_time": "2024-11-22T23:59:22.949Z"
   },
   {
    "duration": 49,
    "start_time": "2024-11-22T23:59:23.012Z"
   },
   {
    "duration": 7,
    "start_time": "2024-11-22T23:59:23.065Z"
   },
   {
    "duration": 7,
    "start_time": "2024-11-22T23:59:23.087Z"
   },
   {
    "duration": 4,
    "start_time": "2024-11-22T23:59:23.096Z"
   },
   {
    "duration": 6,
    "start_time": "2024-11-22T23:59:23.102Z"
   },
   {
    "duration": 11,
    "start_time": "2024-11-22T23:59:23.111Z"
   },
   {
    "duration": 2,
    "start_time": "2024-11-22T23:59:23.124Z"
   },
   {
    "duration": 2,
    "start_time": "2024-11-22T23:59:23.129Z"
   },
   {
    "duration": 2,
    "start_time": "2024-11-22T23:59:23.133Z"
   },
   {
    "duration": 3,
    "start_time": "2024-11-22T23:59:23.137Z"
   },
   {
    "duration": 3,
    "start_time": "2024-11-22T23:59:23.141Z"
   },
   {
    "duration": 2,
    "start_time": "2024-11-22T23:59:23.146Z"
   },
   {
    "duration": 3,
    "start_time": "2024-11-23T00:00:28.317Z"
   },
   {
    "duration": 3,
    "start_time": "2024-11-23T00:00:31.118Z"
   },
   {
    "duration": 5,
    "start_time": "2024-11-23T00:00:33.698Z"
   },
   {
    "duration": 378,
    "start_time": "2024-11-23T00:00:39.917Z"
   },
   {
    "duration": 123,
    "start_time": "2024-11-23T00:00:40.298Z"
   },
   {
    "duration": 20,
    "start_time": "2024-11-23T00:00:40.422Z"
   },
   {
    "duration": 43,
    "start_time": "2024-11-23T00:00:40.444Z"
   },
   {
    "duration": 4,
    "start_time": "2024-11-23T00:00:40.490Z"
   },
   {
    "duration": 10,
    "start_time": "2024-11-23T00:00:40.497Z"
   },
   {
    "duration": 10,
    "start_time": "2024-11-23T00:00:40.510Z"
   },
   {
    "duration": 27,
    "start_time": "2024-11-23T00:00:40.522Z"
   },
   {
    "duration": 45,
    "start_time": "2024-11-23T00:00:40.551Z"
   },
   {
    "duration": 19,
    "start_time": "2024-11-23T00:00:40.598Z"
   },
   {
    "duration": 42,
    "start_time": "2024-11-23T00:00:40.618Z"
   },
   {
    "duration": 70,
    "start_time": "2024-11-23T00:00:40.663Z"
   },
   {
    "duration": 78,
    "start_time": "2024-11-23T00:00:40.735Z"
   },
   {
    "duration": 7,
    "start_time": "2024-11-23T00:00:40.818Z"
   },
   {
    "duration": 8,
    "start_time": "2024-11-23T00:00:40.827Z"
   },
   {
    "duration": 4,
    "start_time": "2024-11-23T00:00:40.836Z"
   },
   {
    "duration": 3,
    "start_time": "2024-11-23T00:00:40.842Z"
   },
   {
    "duration": 8,
    "start_time": "2024-11-23T00:00:40.846Z"
   },
   {
    "duration": 31,
    "start_time": "2024-11-23T00:00:40.856Z"
   },
   {
    "duration": 2,
    "start_time": "2024-11-23T00:00:40.890Z"
   },
   {
    "duration": 2,
    "start_time": "2024-11-23T00:00:40.894Z"
   },
   {
    "duration": 3,
    "start_time": "2024-11-23T00:00:40.898Z"
   },
   {
    "duration": 2,
    "start_time": "2024-11-23T00:00:40.903Z"
   },
   {
    "duration": 3,
    "start_time": "2024-11-23T00:00:40.906Z"
   },
   {
    "duration": 3,
    "start_time": "2024-11-23T00:01:44.299Z"
   },
   {
    "duration": 6,
    "start_time": "2024-11-23T00:01:46.326Z"
   },
   {
    "duration": 3,
    "start_time": "2024-11-23T00:05:15.327Z"
   },
   {
    "duration": 7,
    "start_time": "2024-11-23T00:05:20.048Z"
   },
   {
    "duration": 8,
    "start_time": "2024-11-23T00:05:22.156Z"
   },
   {
    "duration": 344,
    "start_time": "2024-11-23T00:05:29.571Z"
   },
   {
    "duration": 126,
    "start_time": "2024-11-23T00:05:29.917Z"
   },
   {
    "duration": 15,
    "start_time": "2024-11-23T00:05:30.046Z"
   },
   {
    "duration": 32,
    "start_time": "2024-11-23T00:05:30.063Z"
   },
   {
    "duration": 3,
    "start_time": "2024-11-23T00:05:30.098Z"
   },
   {
    "duration": 6,
    "start_time": "2024-11-23T00:05:30.103Z"
   },
   {
    "duration": 4,
    "start_time": "2024-11-23T00:05:30.111Z"
   },
   {
    "duration": 20,
    "start_time": "2024-11-23T00:05:30.117Z"
   },
   {
    "duration": 60,
    "start_time": "2024-11-23T00:05:30.139Z"
   },
   {
    "duration": 18,
    "start_time": "2024-11-23T00:05:30.201Z"
   },
   {
    "duration": 41,
    "start_time": "2024-11-23T00:05:30.221Z"
   },
   {
    "duration": 95,
    "start_time": "2024-11-23T00:05:30.263Z"
   },
   {
    "duration": 56,
    "start_time": "2024-11-23T00:05:30.360Z"
   },
   {
    "duration": 8,
    "start_time": "2024-11-23T00:05:30.421Z"
   },
   {
    "duration": 7,
    "start_time": "2024-11-23T00:05:30.431Z"
   },
   {
    "duration": 4,
    "start_time": "2024-11-23T00:05:30.439Z"
   },
   {
    "duration": 2,
    "start_time": "2024-11-23T00:05:30.445Z"
   },
   {
    "duration": 38,
    "start_time": "2024-11-23T00:05:30.450Z"
   },
   {
    "duration": 3,
    "start_time": "2024-11-23T00:05:30.490Z"
   },
   {
    "duration": 3,
    "start_time": "2024-11-23T00:05:30.495Z"
   },
   {
    "duration": 2,
    "start_time": "2024-11-23T00:05:30.500Z"
   },
   {
    "duration": 2,
    "start_time": "2024-11-23T00:05:30.504Z"
   },
   {
    "duration": 3,
    "start_time": "2024-11-23T00:05:30.508Z"
   },
   {
    "duration": 3,
    "start_time": "2024-11-23T00:05:30.513Z"
   },
   {
    "duration": 3,
    "start_time": "2024-11-23T00:05:48.698Z"
   },
   {
    "duration": 7,
    "start_time": "2024-11-23T00:05:51.654Z"
   },
   {
    "duration": 5,
    "start_time": "2024-11-23T00:05:53.999Z"
   },
   {
    "duration": 3,
    "start_time": "2024-11-23T00:07:14.585Z"
   },
   {
    "duration": 6,
    "start_time": "2024-11-23T00:07:16.719Z"
   },
   {
    "duration": 304,
    "start_time": "2024-11-23T00:07:23.791Z"
   },
   {
    "duration": 122,
    "start_time": "2024-11-23T00:07:24.098Z"
   },
   {
    "duration": 15,
    "start_time": "2024-11-23T00:07:24.222Z"
   },
   {
    "duration": 26,
    "start_time": "2024-11-23T00:07:24.239Z"
   },
   {
    "duration": 20,
    "start_time": "2024-11-23T00:07:24.268Z"
   },
   {
    "duration": 6,
    "start_time": "2024-11-23T00:07:24.290Z"
   },
   {
    "duration": 4,
    "start_time": "2024-11-23T00:07:24.298Z"
   },
   {
    "duration": 27,
    "start_time": "2024-11-23T00:07:24.304Z"
   },
   {
    "duration": 64,
    "start_time": "2024-11-23T00:07:24.333Z"
   },
   {
    "duration": 19,
    "start_time": "2024-11-23T00:07:24.399Z"
   },
   {
    "duration": 42,
    "start_time": "2024-11-23T00:07:24.420Z"
   },
   {
    "duration": 69,
    "start_time": "2024-11-23T00:07:24.464Z"
   },
   {
    "duration": 66,
    "start_time": "2024-11-23T00:07:24.536Z"
   },
   {
    "duration": 8,
    "start_time": "2024-11-23T00:07:24.607Z"
   },
   {
    "duration": 6,
    "start_time": "2024-11-23T00:07:24.617Z"
   },
   {
    "duration": 3,
    "start_time": "2024-11-23T00:07:24.625Z"
   },
   {
    "duration": 3,
    "start_time": "2024-11-23T00:07:24.630Z"
   },
   {
    "duration": 6,
    "start_time": "2024-11-23T00:07:24.634Z"
   },
   {
    "duration": 2,
    "start_time": "2024-11-23T00:07:24.641Z"
   },
   {
    "duration": 3,
    "start_time": "2024-11-23T00:07:24.645Z"
   },
   {
    "duration": 3,
    "start_time": "2024-11-23T00:07:24.688Z"
   },
   {
    "duration": 2,
    "start_time": "2024-11-23T00:07:24.693Z"
   },
   {
    "duration": 3,
    "start_time": "2024-11-23T00:07:24.697Z"
   },
   {
    "duration": 3,
    "start_time": "2024-11-23T00:07:24.702Z"
   },
   {
    "duration": 4,
    "start_time": "2024-11-23T00:08:01.452Z"
   },
   {
    "duration": 8,
    "start_time": "2024-11-23T00:08:03.571Z"
   },
   {
    "duration": 3,
    "start_time": "2024-11-23T00:09:55.108Z"
   },
   {
    "duration": 6,
    "start_time": "2024-11-23T00:09:57.166Z"
   },
   {
    "duration": 3,
    "start_time": "2024-11-23T00:19:54.935Z"
   },
   {
    "duration": 180,
    "start_time": "2024-11-23T00:20:42.459Z"
   },
   {
    "duration": 15,
    "start_time": "2024-11-23T00:21:00.182Z"
   },
   {
    "duration": 12,
    "start_time": "2024-11-23T00:21:57.118Z"
   },
   {
    "duration": 3,
    "start_time": "2024-11-23T00:23:47.107Z"
   },
   {
    "duration": 17,
    "start_time": "2024-11-23T00:23:49.691Z"
   },
   {
    "duration": 3,
    "start_time": "2024-11-23T00:27:41.403Z"
   },
   {
    "duration": 6,
    "start_time": "2024-11-23T00:27:53.789Z"
   },
   {
    "duration": 12,
    "start_time": "2024-11-23T00:27:55.826Z"
   },
   {
    "duration": 330,
    "start_time": "2024-11-23T00:28:09.005Z"
   },
   {
    "duration": 122,
    "start_time": "2024-11-23T00:28:09.339Z"
   },
   {
    "duration": 14,
    "start_time": "2024-11-23T00:28:09.463Z"
   },
   {
    "duration": 24,
    "start_time": "2024-11-23T00:28:09.487Z"
   },
   {
    "duration": 4,
    "start_time": "2024-11-23T00:28:09.515Z"
   },
   {
    "duration": 6,
    "start_time": "2024-11-23T00:28:09.520Z"
   },
   {
    "duration": 4,
    "start_time": "2024-11-23T00:28:09.528Z"
   },
   {
    "duration": 19,
    "start_time": "2024-11-23T00:28:09.534Z"
   },
   {
    "duration": 62,
    "start_time": "2024-11-23T00:28:09.555Z"
   },
   {
    "duration": 18,
    "start_time": "2024-11-23T00:28:09.621Z"
   },
   {
    "duration": 73,
    "start_time": "2024-11-23T00:28:09.641Z"
   },
   {
    "duration": 58,
    "start_time": "2024-11-23T00:28:09.716Z"
   },
   {
    "duration": 49,
    "start_time": "2024-11-23T00:28:09.786Z"
   },
   {
    "duration": 10,
    "start_time": "2024-11-23T00:28:09.839Z"
   },
   {
    "duration": 8,
    "start_time": "2024-11-23T00:28:09.851Z"
   },
   {
    "duration": 3,
    "start_time": "2024-11-23T00:28:09.861Z"
   },
   {
    "duration": 206,
    "start_time": "2024-11-23T00:28:09.886Z"
   },
   {
    "duration": 0,
    "start_time": "2024-11-23T00:28:10.094Z"
   },
   {
    "duration": 0,
    "start_time": "2024-11-23T00:28:10.095Z"
   },
   {
    "duration": 0,
    "start_time": "2024-11-23T00:28:10.096Z"
   },
   {
    "duration": 0,
    "start_time": "2024-11-23T00:28:10.097Z"
   },
   {
    "duration": 0,
    "start_time": "2024-11-23T00:28:10.098Z"
   },
   {
    "duration": 0,
    "start_time": "2024-11-23T00:28:10.099Z"
   },
   {
    "duration": 0,
    "start_time": "2024-11-23T00:28:10.099Z"
   },
   {
    "duration": 14,
    "start_time": "2024-11-23T00:30:40.768Z"
   },
   {
    "duration": 4,
    "start_time": "2024-11-23T00:33:08.878Z"
   },
   {
    "duration": 5,
    "start_time": "2024-11-23T00:33:16.724Z"
   },
   {
    "duration": 5,
    "start_time": "2024-11-23T00:33:36.060Z"
   },
   {
    "duration": 19,
    "start_time": "2024-11-23T00:33:44.617Z"
   },
   {
    "duration": 2,
    "start_time": "2024-11-23T00:35:37.047Z"
   },
   {
    "duration": 20,
    "start_time": "2024-11-23T00:35:40.797Z"
   },
   {
    "duration": 7,
    "start_time": "2024-11-23T00:35:47.283Z"
   },
   {
    "duration": 3,
    "start_time": "2024-11-23T00:41:23.283Z"
   },
   {
    "duration": 17,
    "start_time": "2024-11-23T00:41:34.407Z"
   },
   {
    "duration": 13,
    "start_time": "2024-11-23T00:41:46.031Z"
   },
   {
    "duration": 479,
    "start_time": "2024-11-23T00:44:20.924Z"
   },
   {
    "duration": 29,
    "start_time": "2024-11-23T00:45:05.587Z"
   },
   {
    "duration": 45,
    "start_time": "2024-11-23T00:47:21.378Z"
   },
   {
    "duration": 7,
    "start_time": "2024-11-23T00:51:57.071Z"
   },
   {
    "duration": 12,
    "start_time": "2024-11-23T00:52:20.745Z"
   },
   {
    "duration": 19,
    "start_time": "2024-11-23T03:55:21.329Z"
   },
   {
    "duration": 25,
    "start_time": "2024-11-23T03:55:33.655Z"
   },
   {
    "duration": 42,
    "start_time": "2024-11-23T03:55:43.689Z"
   },
   {
    "duration": 3,
    "start_time": "2024-11-23T04:04:49.228Z"
   },
   {
    "duration": 6,
    "start_time": "2024-11-23T04:05:23.677Z"
   },
   {
    "duration": 5,
    "start_time": "2024-11-23T04:05:37.667Z"
   },
   {
    "duration": 31,
    "start_time": "2024-11-23T04:10:09.772Z"
   },
   {
    "duration": 19,
    "start_time": "2024-11-23T04:23:38.240Z"
   },
   {
    "duration": 21,
    "start_time": "2024-11-23T04:32:57.367Z"
   },
   {
    "duration": 3,
    "start_time": "2024-11-23T04:33:24.898Z"
   },
   {
    "duration": 26,
    "start_time": "2024-11-23T04:33:31.777Z"
   },
   {
    "duration": 42,
    "start_time": "2024-11-23T04:34:18.075Z"
   },
   {
    "duration": 21,
    "start_time": "2024-11-23T04:35:14.503Z"
   },
   {
    "duration": 20,
    "start_time": "2024-11-23T04:35:23.855Z"
   },
   {
    "duration": 22,
    "start_time": "2024-11-23T04:38:05.475Z"
   },
   {
    "duration": 342,
    "start_time": "2024-11-23T04:41:13.993Z"
   },
   {
    "duration": 149,
    "start_time": "2024-11-23T04:41:14.338Z"
   },
   {
    "duration": 15,
    "start_time": "2024-11-23T04:41:14.489Z"
   },
   {
    "duration": 24,
    "start_time": "2024-11-23T04:41:14.507Z"
   },
   {
    "duration": 4,
    "start_time": "2024-11-23T04:41:14.533Z"
   },
   {
    "duration": 6,
    "start_time": "2024-11-23T04:41:14.539Z"
   },
   {
    "duration": 5,
    "start_time": "2024-11-23T04:41:14.549Z"
   },
   {
    "duration": 49,
    "start_time": "2024-11-23T04:41:14.556Z"
   },
   {
    "duration": 27,
    "start_time": "2024-11-23T04:41:14.607Z"
   },
   {
    "duration": 22,
    "start_time": "2024-11-23T04:41:14.639Z"
   },
   {
    "duration": 66,
    "start_time": "2024-11-23T04:41:14.663Z"
   },
   {
    "duration": 62,
    "start_time": "2024-11-23T04:41:14.730Z"
   },
   {
    "duration": 50,
    "start_time": "2024-11-23T04:41:14.795Z"
   },
   {
    "duration": 15,
    "start_time": "2024-11-23T04:41:14.847Z"
   },
   {
    "duration": 24,
    "start_time": "2024-11-23T04:41:14.864Z"
   },
   {
    "duration": 3,
    "start_time": "2024-11-23T04:41:14.890Z"
   },
   {
    "duration": 17,
    "start_time": "2024-11-23T04:41:14.895Z"
   },
   {
    "duration": 8,
    "start_time": "2024-11-23T04:41:14.914Z"
   },
   {
    "duration": 39,
    "start_time": "2024-11-23T04:41:14.924Z"
   },
   {
    "duration": 47,
    "start_time": "2024-11-23T04:41:14.964Z"
   },
   {
    "duration": 6,
    "start_time": "2024-11-23T04:41:15.013Z"
   },
   {
    "duration": 39,
    "start_time": "2024-11-23T04:41:15.022Z"
   },
   {
    "duration": 41,
    "start_time": "2024-11-23T04:41:15.063Z"
   },
   {
    "duration": 5,
    "start_time": "2024-11-23T04:41:15.106Z"
   },
   {
    "duration": 292,
    "start_time": "2024-11-23T04:41:38.943Z"
   },
   {
    "duration": 23,
    "start_time": "2024-11-23T04:42:01.707Z"
   },
   {
    "duration": 17,
    "start_time": "2024-11-23T04:42:11.926Z"
   },
   {
    "duration": 24,
    "start_time": "2024-11-23T04:42:51.391Z"
   },
   {
    "duration": 4,
    "start_time": "2024-11-23T04:43:12.808Z"
   },
   {
    "duration": 26,
    "start_time": "2024-11-23T04:43:21.867Z"
   },
   {
    "duration": 33,
    "start_time": "2024-11-23T04:50:01.146Z"
   },
   {
    "duration": 27,
    "start_time": "2024-11-23T04:50:48.848Z"
   },
   {
    "duration": 20,
    "start_time": "2024-11-23T04:52:43.285Z"
   },
   {
    "duration": 387,
    "start_time": "2024-11-23T04:52:57.910Z"
   },
   {
    "duration": 145,
    "start_time": "2024-11-23T04:52:58.299Z"
   },
   {
    "duration": 15,
    "start_time": "2024-11-23T04:52:58.446Z"
   },
   {
    "duration": 40,
    "start_time": "2024-11-23T04:52:58.465Z"
   },
   {
    "duration": 5,
    "start_time": "2024-11-23T04:52:58.508Z"
   },
   {
    "duration": 5,
    "start_time": "2024-11-23T04:52:58.515Z"
   },
   {
    "duration": 4,
    "start_time": "2024-11-23T04:52:58.521Z"
   },
   {
    "duration": 19,
    "start_time": "2024-11-23T04:52:58.527Z"
   },
   {
    "duration": 52,
    "start_time": "2024-11-23T04:52:58.549Z"
   },
   {
    "duration": 18,
    "start_time": "2024-11-23T04:52:58.605Z"
   },
   {
    "duration": 43,
    "start_time": "2024-11-23T04:52:58.625Z"
   },
   {
    "duration": 49,
    "start_time": "2024-11-23T04:52:58.687Z"
   },
   {
    "duration": 73,
    "start_time": "2024-11-23T04:52:58.738Z"
   },
   {
    "duration": 17,
    "start_time": "2024-11-23T04:52:58.815Z"
   },
   {
    "duration": 9,
    "start_time": "2024-11-23T04:52:58.836Z"
   },
   {
    "duration": 4,
    "start_time": "2024-11-23T04:52:58.846Z"
   },
   {
    "duration": 37,
    "start_time": "2024-11-23T04:52:58.852Z"
   },
   {
    "duration": 7,
    "start_time": "2024-11-23T04:52:58.891Z"
   },
   {
    "duration": 41,
    "start_time": "2024-11-23T04:52:58.899Z"
   },
   {
    "duration": 19,
    "start_time": "2024-11-23T04:52:58.942Z"
   },
   {
    "duration": 5,
    "start_time": "2024-11-23T04:52:58.986Z"
   },
   {
    "duration": 27,
    "start_time": "2024-11-23T04:52:58.993Z"
   },
   {
    "duration": 25,
    "start_time": "2024-11-23T04:52:59.021Z"
   },
   {
    "duration": 41,
    "start_time": "2024-11-23T04:52:59.047Z"
   },
   {
    "duration": 24,
    "start_time": "2024-11-23T04:53:09.323Z"
   },
   {
    "duration": 22,
    "start_time": "2024-11-23T04:54:26.626Z"
   },
   {
    "duration": 310,
    "start_time": "2024-11-23T11:28:45.634Z"
   },
   {
    "duration": 142,
    "start_time": "2024-11-23T11:28:45.946Z"
   },
   {
    "duration": 18,
    "start_time": "2024-11-23T11:28:46.089Z"
   },
   {
    "duration": 23,
    "start_time": "2024-11-23T11:28:46.109Z"
   },
   {
    "duration": 4,
    "start_time": "2024-11-23T11:28:46.135Z"
   },
   {
    "duration": 7,
    "start_time": "2024-11-23T11:28:46.140Z"
   },
   {
    "duration": 3,
    "start_time": "2024-11-23T11:28:46.148Z"
   },
   {
    "duration": 53,
    "start_time": "2024-11-23T11:28:46.153Z"
   },
   {
    "duration": 23,
    "start_time": "2024-11-23T11:28:46.208Z"
   },
   {
    "duration": 24,
    "start_time": "2024-11-23T11:28:46.233Z"
   },
   {
    "duration": 51,
    "start_time": "2024-11-23T11:28:46.258Z"
   },
   {
    "duration": 46,
    "start_time": "2024-11-23T11:28:46.311Z"
   },
   {
    "duration": 63,
    "start_time": "2024-11-23T11:28:46.358Z"
   },
   {
    "duration": 12,
    "start_time": "2024-11-23T11:28:46.424Z"
   },
   {
    "duration": 7,
    "start_time": "2024-11-23T11:28:46.438Z"
   },
   {
    "duration": 3,
    "start_time": "2024-11-23T11:28:46.447Z"
   },
   {
    "duration": 13,
    "start_time": "2024-11-23T11:28:46.452Z"
   },
   {
    "duration": 41,
    "start_time": "2024-11-23T11:28:46.466Z"
   },
   {
    "duration": 28,
    "start_time": "2024-11-23T11:28:46.508Z"
   },
   {
    "duration": 16,
    "start_time": "2024-11-23T11:28:46.538Z"
   },
   {
    "duration": 6,
    "start_time": "2024-11-23T11:28:46.556Z"
   },
   {
    "duration": 52,
    "start_time": "2024-11-23T11:28:46.563Z"
   },
   {
    "duration": 18,
    "start_time": "2024-11-23T11:28:46.617Z"
   },
   {
    "duration": 26,
    "start_time": "2024-11-23T11:28:46.636Z"
   }
  ],
  "kernelspec": {
   "display_name": "Python 3 (ipykernel)",
   "language": "python",
   "name": "python3"
  },
  "language_info": {
   "codemirror_mode": {
    "name": "ipython",
    "version": 3
   },
   "file_extension": ".py",
   "mimetype": "text/x-python",
   "name": "python",
   "nbconvert_exporter": "python",
   "pygments_lexer": "ipython3",
   "version": "3.9.19"
  },
  "toc": {
   "base_numbering": 1,
   "nav_menu": {},
   "number_sections": true,
   "sideBar": true,
   "skip_h1_title": true,
   "title_cell": "Table of Contents",
   "title_sidebar": "Contents",
   "toc_cell": false,
   "toc_position": {},
   "toc_section_display": true,
   "toc_window_display": true
  }
 },
 "nbformat": 4,
 "nbformat_minor": 5
}
